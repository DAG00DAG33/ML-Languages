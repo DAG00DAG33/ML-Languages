{
  "nbformat": 4,
  "nbformat_minor": 0,
  "metadata": {
    "kernelspec": {
      "name": "python3",
      "display_name": "Python 3"
    },
    "language_info": {
      "codemirror_mode": {
        "name": "ipython",
        "version": 3
      },
      "file_extension": ".py",
      "mimetype": "text/x-python",
      "name": "python",
      "nbconvert_exporter": "python",
      "pygments_lexer": "ipython3",
      "version": "3.5.4"
    },
    "colab": {
      "name": "Minimalista.ipynb",
      "provenance": [],
      "collapsed_sections": [],
      "toc_visible": true,
      "include_colab_link": true
    },
    "accelerator": "GPU"
  },
  "cells": [
    {
      "cell_type": "markdown",
      "metadata": {
        "id": "view-in-github",
        "colab_type": "text"
      },
      "source": [
        "<a href=\"https://colab.research.google.com/github/DAG00DAG33/ML-Languages/blob/master/Keras/Keras_Dedos.ipynb\" target=\"_parent\"><img src=\"https://colab.research.google.com/assets/colab-badge.svg\" alt=\"Open In Colab\"/></a>"
      ]
    },
    {
      "cell_type": "code",
      "metadata": {
        "id": "exozcRcZvRU3"
      },
      "source": [
        "import numpy as np\n",
        "import h5py\n",
        "%matplotlib inline     \n",
        "import matplotlib as mpl\n",
        "import matplotlib.pyplot as plt\n",
        "import tensorflow as tf\n",
        "import keras\n",
        "import cv2\n",
        "import time"
      ],
      "execution_count": 1,
      "outputs": []
    },
    {
      "cell_type": "code",
      "metadata": {
        "id": "cslXE1-WvRVC"
      },
      "source": [
        "from keras import layers\n",
        "from keras.layers import Input, Dense , ZeroPadding2D, BatchNormalization, Flatten, Conv2D\n",
        "from keras.layers import MaxPooling2D\n",
        "from keras.models import Model\n",
        "from keras.models import model_from_json\n",
        "from keras.preprocessing import image\n",
        "from keras.utils import layer_utils\n",
        "from keras.utils.data_utils import get_file\n",
        "from keras.applications.imagenet_utils import preprocess_input\n",
        "from IPython.display import SVG\n",
        "from keras.utils.vis_utils import model_to_dot\n",
        "from keras.utils import plot_model\n",
        "from keras import optimizers\n",
        "\n",
        "import keras.backend as K\n",
        "K.set_image_data_format('channels_last')\n",
        "\n",
        "# Activation"
      ],
      "execution_count": 2,
      "outputs": []
    },
    {
      "cell_type": "code",
      "metadata": {
        "id": "tXTVblJJvlW9",
        "colab": {
          "base_uri": "https://localhost:8080/"
        },
        "outputId": "fcf9bd3e-3b77-48ee-ba0e-b7a1a7ca4834"
      },
      "source": [
        "from google.colab import drive\n",
        "drive.mount('/content/drive')\n"
      ],
      "execution_count": 3,
      "outputs": [
        {
          "output_type": "stream",
          "text": [
            "Mounted at /content/drive\n"
          ],
          "name": "stdout"
        }
      ]
    },
    {
      "cell_type": "code",
      "metadata": {
        "id": "tiRhfzl5qfEk"
      },
      "source": [
        "import sys\n",
        "sys.path.insert(1, 'drive/My Drive/ML/iacmf')\n",
        "PATH = 'drive/My Drive/ML/iacmf'"
      ],
      "execution_count": 20,
      "outputs": []
    },
    {
      "cell_type": "code",
      "metadata": {
        "id": "ggKYUHJzt0Q_",
        "colab": {
          "base_uri": "https://localhost:8080/"
        },
        "outputId": "26518d79-a324-4514-80af-c737de17e580"
      },
      "source": [
        "!ls 'drive/MyDrive/ML/iacmf'"
      ],
      "execution_count": 17,
      "outputs": [
        {
          "output_type": "stream",
          "text": [
            "ls: cannot access 'drive/MyDrive/iacmf': No such file or directory\n"
          ],
          "name": "stdout"
        }
      ]
    },
    {
      "cell_type": "code",
      "metadata": {
        "colab": {
          "base_uri": "https://localhost:8080/"
        },
        "id": "YD03h63S_kQM",
        "outputId": "a980acf6-3fcd-4872-e900-c62c63dace83"
      },
      "source": [
        "!ls 'drive/MyDrive/ML/iacmf'"
      ],
      "execution_count": 18,
      "outputs": [
        {
          "output_type": "stream",
          "text": [
            "'Base de datos colores.ipynb'   herr.py\t\t\t __pycache__\n",
            "'Base de datos.ipynb'\t       'Lista de instalar.txt'\t suma2.h5\n",
            " b.py\t\t\t       'Make database.ipynb'\t VideosAI.txt\n",
            " Fingers.ipynb\t\t        Minimalista.ipynb\n",
            " fotos\t\t\t        model\n"
          ],
          "name": "stdout"
        }
      ]
    },
    {
      "cell_type": "code",
      "metadata": {
        "id": "pOEsA6D_r49W",
        "colab": {
          "resources": {
            "http://localhost:8080/nbextensions/google.colab/files.js": {
              "data": "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",
              "ok": true,
              "headers": [
                [
                  "content-type",
                  "application/javascript"
                ]
              ],
              "status": 200,
              "status_text": ""
            }
          },
          "base_uri": "https://localhost:8080/",
          "height": 58
        },
        "outputId": "ed1d2138-afe6-4e69-c920-e0ac6dd99723"
      },
      "source": [
        "from google.colab import files\n",
        "files.upload()"
      ],
      "execution_count": null,
      "outputs": [
        {
          "output_type": "display_data",
          "data": {
            "text/html": [
              "\n",
              "     <input type=\"file\" id=\"files-edd2f406-4cea-4d6a-b44b-ec284de40381\" name=\"files[]\" multiple disabled />\n",
              "     <output id=\"result-edd2f406-4cea-4d6a-b44b-ec284de40381\">\n",
              "      Upload widget is only available when the cell has been executed in the\n",
              "      current browser session. Please rerun this cell to enable.\n",
              "      </output>\n",
              "      <script src=\"/nbextensions/google.colab/files.js\"></script> "
            ],
            "text/plain": [
              "<IPython.core.display.HTML object>"
            ]
          },
          "metadata": {
            "tags": []
          }
        },
        {
          "output_type": "execute_result",
          "data": {
            "text/plain": [
              "{}"
            ]
          },
          "metadata": {
            "tags": []
          },
          "execution_count": 12
        }
      ]
    },
    {
      "cell_type": "code",
      "metadata": {
        "id": "Q5ARF7WJvRVH"
      },
      "source": [
        "from herr import *"
      ],
      "execution_count": 21,
      "outputs": []
    },
    {
      "cell_type": "code",
      "metadata": {
        "id": "U3XzOVgw0j18"
      },
      "source": [
        "from IPython.display import HTML, Audio\n",
        "from google.colab.output import eval_js\n",
        "from base64 import b64decode\n",
        "import io\n",
        "from PIL import Image"
      ],
      "execution_count": 22,
      "outputs": []
    },
    {
      "cell_type": "markdown",
      "metadata": {
        "id": "-v2rcM56vRVJ"
      },
      "source": [
        "# Import Data"
      ]
    },
    {
      "cell_type": "code",
      "metadata": {
        "id": "XgsniHfrvRVL"
      },
      "source": [
        "# 'Stuff/Dedos/datasets/train_signs.h5', 'Stuff/Dedos/datasets/test_signs.h5'\n",
        "# 'fotos/dedosDataset2.h5', 'fotos/dedosDataset2.h5'\n",
        "# 'fotos/suma.h5', 'fotos/suma.h5'\n",
        "# 'fotos/miniData.h5', 'fotos/miniData.h5'\n",
        "X_train, Y_train, X_test, Y_test = load_dataset(PATH +'/suma2.h5',PATH + '/suma2.h5')"
      ],
      "execution_count": 23,
      "outputs": []
    },
    {
      "cell_type": "code",
      "metadata": {
        "id": "C60mvjrtvRVR",
        "colab": {
          "base_uri": "https://localhost:8080/"
        },
        "outputId": "bb2d0175-fa2f-4828-9f66-60df604a0ee5"
      },
      "source": [
        "Y_test.shape"
      ],
      "execution_count": 24,
      "outputs": [
        {
          "output_type": "execute_result",
          "data": {
            "text/plain": [
              "(385, 6)"
            ]
          },
          "metadata": {
            "tags": []
          },
          "execution_count": 24
        }
      ]
    },
    {
      "cell_type": "code",
      "metadata": {
        "id": "cj4tO3jmvRVV",
        "colab": {
          "base_uri": "https://localhost:8080/"
        },
        "outputId": "a913658c-1aa1-465c-a28c-60e97d1cfdfe"
      },
      "source": [
        "X_train[0]"
      ],
      "execution_count": 25,
      "outputs": [
        {
          "output_type": "execute_result",
          "data": {
            "text/plain": [
              "array([[[0.71372549, 0.7254902 , 0.63921569],\n",
              "        [0.7254902 , 0.7372549 , 0.77254902],\n",
              "        [0.71764706, 0.7372549 , 0.77254902],\n",
              "        ...,\n",
              "        [0.60392157, 0.63529412, 0.68627451],\n",
              "        [0.58431373, 0.63529412, 0.61960784],\n",
              "        [0.59607843, 0.60392157, 0.63529412]],\n",
              "\n",
              "       [[0.75294118, 0.78039216, 0.72941176],\n",
              "        [0.74509804, 0.74901961, 0.74901961],\n",
              "        [0.71764706, 0.76078431, 0.76862745],\n",
              "        ...,\n",
              "        [0.62745098, 0.63529412, 0.65490196],\n",
              "        [0.61568627, 0.62745098, 0.66666667],\n",
              "        [0.63137255, 0.63137255, 0.66666667]],\n",
              "\n",
              "       [[0.7254902 , 0.78431373, 0.72941176],\n",
              "        [0.7254902 , 0.75686275, 0.74117647],\n",
              "        [0.72156863, 0.75686275, 0.76862745],\n",
              "        ...,\n",
              "        [0.61568627, 0.65098039, 0.69411765],\n",
              "        [0.63529412, 0.63529412, 0.63529412],\n",
              "        [0.61960784, 0.63137255, 0.63921569]],\n",
              "\n",
              "       ...,\n",
              "\n",
              "       [[0.56862745, 0.56862745, 0.56078431],\n",
              "        [0.57647059, 0.57647059, 0.59607843],\n",
              "        [0.59215686, 0.58823529, 0.61568627],\n",
              "        ...,\n",
              "        [0.56862745, 0.58039216, 0.63529412],\n",
              "        [0.57647059, 0.57647059, 0.61176471],\n",
              "        [0.57254902, 0.57647059, 0.61568627]],\n",
              "\n",
              "       [[0.56862745, 0.57647059, 0.58431373],\n",
              "        [0.58823529, 0.57254902, 0.57254902],\n",
              "        [0.58823529, 0.57254902, 0.59215686],\n",
              "        ...,\n",
              "        [0.57254902, 0.57254902, 0.6       ],\n",
              "        [0.56078431, 0.58823529, 0.62352941],\n",
              "        [0.55294118, 0.58039216, 0.62352941]],\n",
              "\n",
              "       [[0.58431373, 0.57647059, 0.62745098],\n",
              "        [0.57647059, 0.57254902, 0.58039216],\n",
              "        [0.57647059, 0.56078431, 0.59607843],\n",
              "        ...,\n",
              "        [0.57647059, 0.56862745, 0.61960784],\n",
              "        [0.56078431, 0.56862745, 0.58823529],\n",
              "        [0.54901961, 0.56470588, 0.63921569]]])"
            ]
          },
          "metadata": {
            "tags": []
          },
          "execution_count": 25
        }
      ]
    },
    {
      "cell_type": "code",
      "metadata": {
        "id": "pdPV7iKrvRVY",
        "colab": {
          "base_uri": "https://localhost:8080/",
          "height": 285
        },
        "outputId": "154a957c-a28e-4b3c-be40-e35c89694a8b"
      },
      "source": [
        "plt.imshow(X_train[0])"
      ],
      "execution_count": 26,
      "outputs": [
        {
          "output_type": "execute_result",
          "data": {
            "text/plain": [
              "<matplotlib.image.AxesImage at 0x7fa9fe88db70>"
            ]
          },
          "metadata": {
            "tags": []
          },
          "execution_count": 26
        },
        {
          "output_type": "display_data",
          "data": {
            "image/png": "[encoded data removed]",
            "text/plain": [
              "<Figure size 432x288 with 1 Axes>"
            ]
          },
          "metadata": {
            "tags": [],
            "needs_background": "light"
          }
        }
      ]
    },
    {
      "cell_type": "code",
      "metadata": {
        "id": "1vME_vlwvRVn",
        "colab": {
          "base_uri": "https://localhost:8080/"
        },
        "outputId": "da5faae2-3d8a-4228-b248-72651277b4ae"
      },
      "source": [
        "Y_train[0]"
      ],
      "execution_count": 27,
      "outputs": [
        {
          "output_type": "execute_result",
          "data": {
            "text/plain": [
              "array([0., 0., 0., 0., 0., 1.])"
            ]
          },
          "metadata": {
            "tags": []
          },
          "execution_count": 27
        }
      ]
    },
    {
      "cell_type": "markdown",
      "metadata": {
        "id": "ISlkSwk-vRVr"
      },
      "source": [
        "# Model"
      ]
    },
    {
      "cell_type": "code",
      "metadata": {
        "id": "yRHEkzeivRVs"
      },
      "source": [
        "def model(input_shape):\n",
        "    # Define the input placeholder as a tensor with shape input_shape. Think of this as your input image!\n",
        "    X_input = Input(input_shape)\n",
        "\n",
        "    \n",
        "    \n",
        "    X = BatchNormalization()(X_input)\n",
        "    X = Conv2D(16, (3, 3), strides = (1, 1), name = 'conv0', padding='same', activation='relu')(X) \n",
        "    X = Conv2D(16, (3, 3), strides = (1, 1), name = 'conv00', padding='same', activation='relu')(X)\n",
        "\n",
        "\n",
        "    \n",
        "    X = MaxPooling2D((2, 2), name='max_pool0')(X)\n",
        "    \n",
        "    \n",
        "    X = Conv2D(16, (3, 3), strides = (1, 1), name = 'conv1', padding='same', activation='relu')(X) \n",
        "    X = Conv2D(32, (3, 3), strides = (1, 1), name = 'conv11', padding='same', activation='relu')(X)\n",
        "\n",
        "\n",
        "    X = MaxPooling2D((2, 2), name='max_pool1')(X)\n",
        "    \n",
        "    \n",
        "    \n",
        "    X = Conv2D(32, (3, 3), strides = (1, 1), name = 'conv2', padding='same', activation='relu')(X) \n",
        "    X = Conv2D(32, (3, 3), strides = (1, 1), name = 'conv22', padding='same', activation='relu')(X)\n",
        "    \n",
        "    \n",
        "    \n",
        "    X = MaxPooling2D((4, 4), name='max_pool2')(X)\n",
        "    \n",
        "    \n",
        "    \n",
        "    X = Conv2D(32, (3, 3), strides = (1, 1), name = 'conv3', padding='same', activation='relu')(X) \n",
        "    X = Conv2D(32, (3, 3), strides = (1, 1), name = 'conv33', padding='same', activation='relu')(X)\n",
        "    \n",
        "    \n",
        "    X = MaxPooling2D((2, 2), name='max_pool3')(X)\n",
        "    \n",
        "    \n",
        "    \n",
        "    X = Conv2D(32, (3, 3), strides = (1, 1), name = 'conv4', padding='same', activation='relu')(X) \n",
        "    X = Conv2D(32, (3, 3), strides = (1, 1), name = 'conv44', padding='same', activation='relu')(X)\n",
        "\n",
        "    \n",
        "    X = Flatten()(X)\n",
        "    X = Dense(6, activation='sigmoid', name='fc')(X)\n",
        "\n",
        "    # Create model. This creates your Keras model instance, you'll use this instance to train/test the model.\n",
        "    model = Model(inputs = X_input, outputs = X, name='SignModel')\n",
        "\n",
        "    return model"
      ],
      "execution_count": 28,
      "outputs": []
    },
    {
      "cell_type": "code",
      "metadata": {
        "id": "p1Ll36A2vRVz"
      },
      "source": [
        "finger_model = model(X_train.shape[1:]) "
      ],
      "execution_count": 29,
      "outputs": []
    },
    {
      "cell_type": "code",
      "metadata": {
        "id": "zrYsSph_vRV2"
      },
      "source": [
        "finger_model.compile('adam', 'binary_crossentropy')#metrics=['accuracy']"
      ],
      "execution_count": 30,
      "outputs": []
    },
    {
      "cell_type": "code",
      "metadata": {
        "id": "1j5sHjc2vRV6",
        "colab": {
          "base_uri": "https://localhost:8080/"
        },
        "outputId": "12e5bc73-28f9-4be7-f463-1e2ea6dff4b2"
      },
      "source": [
        "print(finger_model.summary())"
      ],
      "execution_count": 31,
      "outputs": [
        {
          "output_type": "stream",
          "text": [
            "Model: \"SignModel\"\n",
            "_________________________________________________________________\n",
            "Layer (type)                 Output Shape              Param #   \n",
            "=================================================================\n",
            "input_1 (InputLayer)         [(None, 64, 64, 3)]       0         \n",
            "_________________________________________________________________\n",
            "batch_normalization (BatchNo (None, 64, 64, 3)         12        \n",
            "_________________________________________________________________\n",
            "conv0 (Conv2D)               (None, 64, 64, 16)        448       \n",
            "_________________________________________________________________\n",
            "conv00 (Conv2D)              (None, 64, 64, 16)        2320      \n",
            "_________________________________________________________________\n",
            "max_pool0 (MaxPooling2D)     (None, 32, 32, 16)        0         \n",
            "_________________________________________________________________\n",
            "conv1 (Conv2D)               (None, 32, 32, 16)        2320      \n",
            "_________________________________________________________________\n",
            "conv11 (Conv2D)              (None, 32, 32, 32)        4640      \n",
            "_________________________________________________________________\n",
            "max_pool1 (MaxPooling2D)     (None, 16, 16, 32)        0         \n",
            "_________________________________________________________________\n",
            "conv2 (Conv2D)               (None, 16, 16, 32)        9248      \n",
            "_________________________________________________________________\n",
            "conv22 (Conv2D)              (None, 16, 16, 32)        9248      \n",
            "_________________________________________________________________\n",
            "max_pool2 (MaxPooling2D)     (None, 4, 4, 32)          0         \n",
            "_________________________________________________________________\n",
            "conv3 (Conv2D)               (None, 4, 4, 32)          9248      \n",
            "_________________________________________________________________\n",
            "conv33 (Conv2D)              (None, 4, 4, 32)          9248      \n",
            "_________________________________________________________________\n",
            "max_pool3 (MaxPooling2D)     (None, 2, 2, 32)          0         \n",
            "_________________________________________________________________\n",
            "conv4 (Conv2D)               (None, 2, 2, 32)          9248      \n",
            "_________________________________________________________________\n",
            "conv44 (Conv2D)              (None, 2, 2, 32)          9248      \n",
            "_________________________________________________________________\n",
            "flatten (Flatten)            (None, 128)               0         \n",
            "_________________________________________________________________\n",
            "fc (Dense)                   (None, 6)                 774       \n",
            "=================================================================\n",
            "Total params: 66,002\n",
            "Trainable params: 65,996\n",
            "Non-trainable params: 6\n",
            "_________________________________________________________________\n",
            "None\n"
          ],
          "name": "stdout"
        }
      ]
    },
    {
      "cell_type": "markdown",
      "metadata": {
        "id": "qofl5rQwvRV-"
      },
      "source": [
        "# Fit"
      ]
    },
    {
      "cell_type": "code",
      "metadata": {
        "id": "RboYhznuvRV_",
        "colab": {
          "base_uri": "https://localhost:8080/"
        },
        "outputId": "356fb77a-311e-440a-9acd-22eb9b0e2b4a"
      },
      "source": [
        "history = finger_model.fit(X_train, Y_train, epochs=10, batch_size=20)#, validation_data=(X_test, Y_test)"
      ],
      "execution_count": 32,
      "outputs": [
        {
          "output_type": "stream",
          "text": [
            "Epoch 1/10\n",
            "77/77 [==============================] - 8s 5ms/step - loss: 0.5401\n",
            "Epoch 2/10\n",
            "77/77 [==============================] - 0s 4ms/step - loss: 0.3740\n",
            "Epoch 3/10\n",
            "77/77 [==============================] - 0s 5ms/step - loss: 0.2372\n",
            "Epoch 4/10\n",
            "77/77 [==============================] - 0s 5ms/step - loss: 0.1851\n",
            "Epoch 5/10\n",
            "77/77 [==============================] - 0s 4ms/step - loss: 0.1378\n",
            "Epoch 6/10\n",
            "77/77 [==============================] - 0s 4ms/step - loss: 0.0954\n",
            "Epoch 7/10\n",
            "77/77 [==============================] - 0s 4ms/step - loss: 0.0615\n",
            "Epoch 8/10\n",
            "77/77 [==============================] - 0s 5ms/step - loss: 0.0468\n",
            "Epoch 9/10\n",
            "77/77 [==============================] - 0s 4ms/step - loss: 0.0352\n",
            "Epoch 10/10\n",
            "77/77 [==============================] - 0s 5ms/step - loss: 0.0411\n"
          ],
          "name": "stdout"
        }
      ]
    },
    {
      "cell_type": "code",
      "metadata": {
        "id": "fEYrwNL_vRWH",
        "colab": {
          "base_uri": "https://localhost:8080/",
          "height": 313
        },
        "outputId": "62d5753a-3684-4a0a-ca5d-9b2697803a78"
      },
      "source": [
        "plt.plot(history.history['loss'])\n",
        "# plt.plot(history.history['val_loss'])\n",
        "plt.title('model loss')\n",
        "plt.ylabel('loss')\n",
        "plt.xlabel('epoch')"
      ],
      "execution_count": 33,
      "outputs": [
        {
          "output_type": "execute_result",
          "data": {
            "text/plain": [
              "Text(0.5, 0, 'epoch')"
            ]
          },
          "metadata": {
            "tags": []
          },
          "execution_count": 33
        },
        {
          "output_type": "display_data",
          "data": {
            "image/png": "[encoded data removed]",
            "text/plain": [
              "<Figure size 432x288 with 1 Axes>"
            ]
          },
          "metadata": {
            "tags": [],
            "needs_background": "light"
          }
        }
      ]
    },
    {
      "cell_type": "markdown",
      "metadata": {
        "id": "fTAnCZY9vRWd"
      },
      "source": [
        "# Evaluate\n"
      ]
    },
    {
      "cell_type": "code",
      "metadata": {
        "id": "TRe8-fQ1vRWf",
        "colab": {
          "base_uri": "https://localhost:8080/"
        },
        "outputId": "a4b2f862-86bc-4c37-dd78-96a921d0ffb8"
      },
      "source": [
        "accuracy(finger_model, X_test, Y_test)"
      ],
      "execution_count": 34,
      "outputs": [
        {
          "output_type": "execute_result",
          "data": {
            "text/plain": [
              "0.9324675324675324"
            ]
          },
          "metadata": {
            "tags": []
          },
          "execution_count": 34
        }
      ]
    },
    {
      "cell_type": "markdown",
      "metadata": {
        "id": "Wpff2abwvRWl"
      },
      "source": [
        "# Use"
      ]
    },
    {
      "cell_type": "code",
      "metadata": {
        "id": "10KJGI5yvRWm"
      },
      "source": [
        "def use(foto):\n",
        "    predict = finger_model.predict(foto.reshape(1,64,64,3))  #Importante\n",
        "    plt.imshow(foto)\n",
        "    plt.show()\n",
        "    print(predict)\n",
        "    plt.plot(predict.reshape(6))\n",
        "    plt.ylim((0,1))\n",
        "    plt.show()"
      ],
      "execution_count": 35,
      "outputs": []
    },
    {
      "cell_type": "code",
      "metadata": {
        "id": "gBRylcxTvRWt",
        "colab": {
          "base_uri": "https://localhost:8080/",
          "height": 555
        },
        "outputId": "5f63f5e1-d705-4649-f5b5-f64ace5044a1"
      },
      "source": [
        "use(X_test[8])"
      ],
      "execution_count": 36,
      "outputs": [
        {
          "output_type": "display_data",
          "data": {
            "image/png": "[encoded data removed]",
            "text/plain": [
              "<Figure size 432x288 with 1 Axes>"
            ]
          },
          "metadata": {
            "tags": [],
            "needs_background": "light"
          }
        },
        {
          "output_type": "stream",
          "text": [
            "[[4.5238696e-07 1.9887616e-06 2.7019205e-04 4.6058785e-02 9.0898263e-01\n",
            "  6.8730218e-03]]\n"
          ],
          "name": "stdout"
        },
        {
          "output_type": "display_data",
          "data": {
            "image/png": "[encoded data removed]",
            "text/plain": [
              "<Figure size 432x288 with 1 Axes>"
            ]
          },
          "metadata": {
            "tags": [],
            "needs_background": "light"
          }
        }
      ]
    },
    {
      "cell_type": "code",
      "metadata": {
        "id": "FL1tKXe4vRW3",
        "colab": {
          "base_uri": "https://localhost:8080/"
        },
        "outputId": "ba3ab2a2-7091-4990-e368-fdcbdd8d5fa2"
      },
      "source": [
        "Y_test[4]"
      ],
      "execution_count": 37,
      "outputs": [
        {
          "output_type": "execute_result",
          "data": {
            "text/plain": [
              "array([0., 0., 0., 1., 0., 0.])"
            ]
          },
          "metadata": {
            "tags": []
          },
          "execution_count": 37
        }
      ]
    },
    {
      "cell_type": "code",
      "metadata": {
        "id": "3BHaNNCOvRW6",
        "colab": {
          "base_uri": "https://localhost:8080/",
          "height": 623
        },
        "outputId": "3d676dd5-f128-4407-bff2-2e730d61cb9b"
      },
      "source": [
        "use(take_photo(size=(64,64))/255)\n"
      ],
      "execution_count": 38,
      "outputs": [
        {
          "output_type": "display_data",
          "data": {
            "text/html": [
              "\n",
              "<video autoplay\n",
              " width=64 height=64 style='cursor: pointer;'></video>\n",
              "<script>\n",
              "\n",
              "var video = document.querySelector('video')\n",
              "\n",
              "navigator.mediaDevices.getUserMedia({ video: true })\n",
              "  .then(stream=> video.srcObject = stream)\n",
              "  \n",
              "var data = new Promise(resolve=>{\n",
              "  video.onclick = ()=>{\n",
              "    var canvas = document.createElement('canvas')\n",
              "    var [w,h] = [video.offsetWidth, video.offsetHeight]\n",
              "    canvas.width = w\n",
              "    canvas.height = h\n",
              "    canvas.getContext('2d')\n",
              "          .drawImage(video, 0, 0, w, h)\n",
              "    video.srcObject.getVideoTracks()[0].stop()\n",
              "    video.replaceWith(canvas)\n",
              "    resolve(canvas.toDataURL('image/jpeg', 0.800000))\n",
              "  }\n",
              "})\n",
              "</script>\n"
            ],
            "text/plain": [
              "<IPython.core.display.HTML object>"
            ]
          },
          "metadata": {
            "tags": []
          }
        },
        {
          "output_type": "display_data",
          "data": {
            "image/png": "[encoded data removed]",
            "text/plain": [
              "<Figure size 432x288 with 1 Axes>"
            ]
          },
          "metadata": {
            "tags": [],
            "needs_background": "light"
          }
        },
        {
          "output_type": "stream",
          "text": [
            "[[1.3096173e-05 3.6001299e-04 4.9456013e-03 8.8101065e-01 5.9375186e-02\n",
            "  1.2539585e-04]]\n"
          ],
          "name": "stdout"
        },
        {
          "output_type": "display_data",
          "data": {
            "image/png": "[encoded data removed]",
            "text/plain": [
              "<Figure size 432x288 with 1 Axes>"
            ]
          },
          "metadata": {
            "tags": [],
            "needs_background": "light"
          }
        }
      ]
    },
    {
      "cell_type": "markdown",
      "metadata": {
        "id": "PjWSImprvRW-"
      },
      "source": [
        "# Save the model"
      ]
    },
    {
      "cell_type": "code",
      "metadata": {
        "id": "0MMjiniSvRW-",
        "colab": {
          "base_uri": "https://localhost:8080/",
          "height": 34
        },
        "outputId": "bf19899d-bd42-4645-d756-38a438861b2c"
      },
      "source": [
        "# Guardar modelo en JSON\n",
        "model_json = finger_model.to_json()\n",
        "with open(PATH + \"/model/model2.json\", \"w\") as json_file:\n",
        "    json_file.write(model_json)\n",
        "# Guardar Weights\n",
        "finger_model.save_weights(PATH + \"/model/model2.h5\")\n",
        "print(\"Model saved\")"
      ],
      "execution_count": null,
      "outputs": [
        {
          "output_type": "stream",
          "text": [
            "Model saved\n"
          ],
          "name": "stdout"
        }
      ]
    },
    {
      "cell_type": "markdown",
      "metadata": {
        "id": "I8DpNHPAvRXH"
      },
      "source": [
        "# Load the model"
      ]
    },
    {
      "cell_type": "code",
      "metadata": {
        "id": "lCgjnSjmvRXI",
        "colab": {
          "base_uri": "https://localhost:8080/",
          "height": 34
        },
        "outputId": "7b7d3142-3ef4-41b2-bd74-2a51ba98c85d"
      },
      "source": [
        "# Cargar modelo\n",
        "json_file = open(PATH + '/model/model2.json', 'r')\n",
        "loaded_model_json = json_file.read()\n",
        "json_file.close()\n",
        "finger_model = model_from_json(loaded_model_json)\n",
        "# Cargar Weights\n",
        "finger_model.load_weights(PATH + \"/model/model2.h5\")\n",
        "print(\"Model loaded\")"
      ],
      "execution_count": null,
      "outputs": [
        {
          "output_type": "stream",
          "text": [
            "Model loaded\n"
          ],
          "name": "stdout"
        }
      ]
    },
    {
      "cell_type": "markdown",
      "metadata": {
        "id": "yKn7hZD9vRXK"
      },
      "source": [
        "# Live"
      ]
    },
    {
      "cell_type": "code",
      "metadata": {
        "id": "WelyvatMvRXL"
      },
      "source": [
        "#OFLINE\n",
        "\n",
        "from IPython.display import clear_output\n",
        "camera = cv2.VideoCapture(1)\n",
        "for i in range(30):\n",
        "    return_value, image = camera.read()\n",
        "    resize_foto = process_foto(image)/255\n",
        "    use(resize_foto)\n",
        "    time.sleep(1)\n",
        "    clear_output()\n",
        "del(camera)"
      ],
      "execution_count": null,
      "outputs": []
    },
    {
      "cell_type": "code",
      "metadata": {
        "id": "YBvl5BkqLb_4"
      },
      "source": [
        "#ONLINE\n",
        "from IPython.display import clear_output\n",
        "import time\n",
        "for i in range(30):\n",
        "    image = take_photo(size=(64,64))/255\n",
        "    use(image)\n",
        "    time.sleep(1)\n",
        "    clear_output()\n",
        "del(camera)"
      ],
      "execution_count": null,
      "outputs": []
    },
    {
      "cell_type": "markdown",
      "metadata": {
        "id": "DZvVxBHJA33v"
      },
      "source": [
        "#Connect to arduino (OFLINE)"
      ]
    },
    {
      "cell_type": "code",
      "metadata": {
        "id": "DCLi6_l2vRXW"
      },
      "source": [
        "import pyfirmata\n",
        "placa = pyfirmata.Arduino('COM17')\n",
        "rojo = placa.get_pin('d:11:o')\n",
        "verde = placa.get_pin('d:10:o')\n",
        "azul = placa.get_pin('d:9:o')\n"
      ],
      "execution_count": null,
      "outputs": []
    },
    {
      "cell_type": "code",
      "metadata": {
        "id": "4UGLK-i2Mcdx"
      },
      "source": [
        "#OFLINE\n",
        "letters = [\"r\", \"g\", \"b\", \"y\", \"o\", \"n\"]\n",
        "\n",
        "from IPython.display import clear_output\n",
        "camera = cv2.VideoCapture(0)\n",
        "for i in range(100):\n",
        "    return_value, image = camera.read()\n",
        "    resize_foto = process_foto2(image)/255\n",
        "    Y_pred = finger_model.predict(resize_foto.reshape(1,224,224,3))\n",
        "    pred = np.argmax(Y_pred, axis=-1)\n",
        "    if Y_pred[0][pred]>0.8:\n",
        "        \n",
        "        clear_output()\n",
        "        print(letters[pred[0]])\n",
        "        \n",
        "    time.sleep(0.5)\n",
        "    \n",
        "del(camera)"
      ],
      "execution_count": null,
      "outputs": []
    },
    {
      "cell_type": "code",
      "metadata": {
        "id": "UkY3zptKvRXN"
      },
      "source": [
        "#ONLINE\n",
        "\n",
        "letters = [\"r\", \"g\", \"b\", \"y\", \"o\", \"n\"]\n",
        "\n",
        "from IPython.display import clear_output\n",
        "for i in range(100):\n",
        "    image = take_photo(size=(64,64))/255\n",
        "    Y_pred = finger_model.predict(image.reshape(1,64,64,3))\n",
        "    pred = np.argmax(Y_pred, axis=-1)\n",
        "    if Y_pred[0][pred]>0.8:\n",
        "        clear_output()\n",
        "        print(letters[pred[0]])\n"
      ],
      "execution_count": null,
      "outputs": []
    },
    {
      "cell_type": "code",
      "metadata": {
        "id": "Ld0KHtm_vRXP"
      },
      "source": [
        "from IPython.display import clear_output\n",
        "camera = cv2.VideoCapture(0)\n",
        "for i in range(300):\n",
        "    return_value, image = camera.read()\n",
        "    resize_foto = process_foto(image)/255\n",
        "    Y_pred = finger_model.predict(resize_foto.reshape(1,64,64,3))\n",
        "    pred = np.argmax(Y_pred, axis=-1)\n",
        "    if Y_pred[0][pred]>0.8:\n",
        "        \n",
        "        clear_output()\n",
        "        print(pred[0])\n",
        "        opt = pred[0] #input(\"Escoge el color: \\n\")\n",
        "        if opt==1:\n",
        "                print (\"ROJO\")\n",
        "                rojo.write(1)\n",
        "                verde.write(0)\n",
        "                azul.write(0)\n",
        "        elif opt==2:\n",
        "                print (\"VERDE\")\n",
        "                rojo.write(0)\n",
        "                verde.write(1)\n",
        "                azul.write(0)\n",
        "        elif opt==3:\n",
        "                print (\"AZUL\")\n",
        "                rojo.write(0)\n",
        "                verde.write(0)\n",
        "                azul.write(1)\n",
        "        elif opt==0:\n",
        "                print (\"AZUL\")\n",
        "                rojo.write(0)\n",
        "                verde.write(0)\n",
        "                azul.write(1)\n",
        "        elif opt==4:\n",
        "                print (\"Amarillo\")\n",
        "                rojo.write(1)\n",
        "                verde.write(1)\n",
        "                azul.write(0)\n",
        "        elif opt==5:\n",
        "                rojo.write(1)\n",
        "                verde.write(1)\n",
        "                azul.write(1)\n",
        "                #placa.exit()\n",
        "                #break\n",
        "        else:\n",
        "                print (\"¡Seleccione un opción correcta!\")\n",
        "    time.sleep(0.5)\n",
        "print(\"Fin\")\n",
        "del(camera)"
      ],
      "execution_count": null,
      "outputs": []
    },
    {
      "cell_type": "code",
      "metadata": {
        "id": "b7gcq9l7vRXT"
      },
      "source": [
        "del(camera)"
      ],
      "execution_count": null,
      "outputs": []
    }
  ]
}
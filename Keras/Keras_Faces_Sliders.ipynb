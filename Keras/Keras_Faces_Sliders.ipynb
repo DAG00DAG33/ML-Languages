{
  "nbformat": 4,
  "nbformat_minor": 0,
  "metadata": {
    "colab": {
      "name": "Faces_minimaliesta.ipynb",
      "provenance": [],
      "collapsed_sections": [
        "ntrhizvouZc8",
        "BjdVuSxI_lnI"
      ],
      "toc_visible": true,
      "include_colab_link": true
    },
    "kernelspec": {
      "name": "python3",
      "display_name": "Python 3"
    },
    "accelerator": "GPU"
  },
  "cells": [
    {
      "cell_type": "markdown",
      "metadata": {
        "id": "view-in-github",
        "colab_type": "text"
      },
      "source": [
        "<a href=\"https://colab.research.google.com/github/DAG00DAG33/ML-Languages/blob/master/Keras/Keras_Faces_Sliders.ipynb\" target=\"_parent\"><img src=\"https://colab.research.google.com/assets/colab-badge.svg\" alt=\"Open In Colab\"/></a>"
      ]
    },
    {
      "cell_type": "markdown",
      "metadata": {
        "id": "7E3xwhoeuNur"
      },
      "source": [
        "# Importamos y cargamos todo"
      ]
    },
    {
      "cell_type": "code",
      "metadata": {
        "id": "j7qgTVq04acf"
      },
      "source": [
        "import tensorflow as tf\n",
        "\n",
        "import os\n",
        "import time\n",
        "import matplotlib.pyplot as plt\n",
        "%matplotlib inline     \n",
        "import matplotlib as mpl\n",
        "import numpy as np\n",
        "from PIL import Image\n",
        "import cv2\n",
        "\n",
        "import pickle\n",
        "import h5py"
      ],
      "execution_count": 1,
      "outputs": []
    },
    {
      "cell_type": "code",
      "metadata": {
        "id": "YG6-lg1P4gHn",
        "colab": {
          "base_uri": "https://localhost:8080/"
        },
        "outputId": "ece19267-16da-46f0-fe33-93e0cea99e26"
      },
      "source": [
        "from google.colab import drive\n",
        "drive.mount('/content/drive')\n",
        "PATH = '/content/drive/My Drive/ML/Faces/'"
      ],
      "execution_count": 2,
      "outputs": [
        {
          "output_type": "stream",
          "text": [
            "Mounted at /content/drive\n"
          ],
          "name": "stdout"
        }
      ]
    },
    {
      "cell_type": "code",
      "metadata": {
        "id": "GxJ99Foy4sUX"
      },
      "source": [
        "with open(PATH + \"Names.txt\", \"rb\") as fp:\n",
        "  Names = pickle.load(fp)\n",
        "  \n",
        "  \n",
        "dataset = h5py.File(PATH + \"facesDatabase.h5\", \"r\")\n",
        "X_orig = np.array(dataset[\"X\"][:]) \n",
        "X_img = X_orig/255."
      ],
      "execution_count": 15,
      "outputs": []
    },
    {
      "cell_type": "code",
      "metadata": {
        "id": "1_gieUNc5Jk2",
        "colab": {
          "base_uri": "https://localhost:8080/",
          "height": 285
        },
        "outputId": "2441f230-5367-47c7-d667-f5ae9ab5cbe5"
      },
      "source": [
        "plt.imshow(X_img[34])"
      ],
      "execution_count": 4,
      "outputs": [
        {
          "output_type": "execute_result",
          "data": {
            "text/plain": [
              "<matplotlib.image.AxesImage at 0x7f409ee7b8d0>"
            ]
          },
          "metadata": {
            "tags": []
          },
          "execution_count": 4
        },
        {
          "output_type": "display_data",
          "data": {
            "image/png": "[encoded data removed]",
            "text/plain": [
              "<Figure size 432x288 with 1 Axes>"
            ]
          },
          "metadata": {
            "tags": [],
            "needs_background": "light"
          }
        }
      ]
    },
    {
      "cell_type": "code",
      "metadata": {
        "id": "qVWN2MNH6beh"
      },
      "source": [
        "from keras import layers\n",
        "from keras.layers import Input, Dense , ZeroPadding2D, BatchNormalization, Flatten, Conv2D, Dropout, Activation, Add\n",
        "from keras.layers import MaxPooling2D, ReLU\n",
        "from keras import activations\n",
        "from keras.models import Model, clone_model\n",
        "from keras.models import model_from_json\n",
        "from keras.preprocessing import image\n",
        "from keras.utils import layer_utils\n",
        "from keras.utils.data_utils import get_file\n",
        "from keras.applications.imagenet_utils import preprocess_input\n",
        "from IPython.display import SVG\n",
        "from keras.utils.vis_utils import model_to_dot\n",
        "from keras.utils import plot_model\n",
        "from keras import optimizers\n",
        "\n",
        "from keras.layers import UpSampling2D\n",
        "from keras.layers import Reshape\n",
        "\n",
        "import keras.backend as K\n",
        "K.set_image_data_format('channels_last')"
      ],
      "execution_count": 5,
      "outputs": []
    },
    {
      "cell_type": "markdown",
      "metadata": {
        "id": "ntrhizvouZc8"
      },
      "source": [
        "# Creamos el modelo autoencoder"
      ]
    },
    {
      "cell_type": "markdown",
      "metadata": {
        "id": "DbsYor58Jc-H"
      },
      "source": [
        "Veremos que no da resultados demasiados buenos, usar solo embeding funcionara mejor"
      ]
    },
    {
      "cell_type": "markdown",
      "metadata": {
        "id": "uEElAxsGuzUl"
      },
      "source": [
        "## modelo\n"
      ]
    },
    {
      "cell_type": "code",
      "metadata": {
        "id": "QsX7DBeo6lym"
      },
      "source": [
        "\n",
        "# Entrada de los datos\n",
        "X_input = Input((64,64,3))\n",
        "X = BatchNormalization()(X_input)\n",
        "#     X= Dropout(0.5)(X)\n",
        "\n",
        "X = Conv2D(120, (8, 8), strides = (1, 1), padding='same', activation=\"relu\")(X) \n",
        "\n",
        "X = MaxPooling2D((2, 2))(X)\n",
        "X = Conv2D(160, (3, 3), strides = (1, 1), padding='same')(X) \n",
        "X = BatchNormalization()(X)\n",
        "X = ReLU()(X)\n",
        "\n",
        "X = MaxPooling2D((2, 2))(X)\n",
        "X = Conv2D(200, (4, 4), strides = (1, 1), padding='same')(X) \n",
        "X = BatchNormalization()(X)\n",
        "X = ReLU()(X)\n",
        "\n",
        "X = MaxPooling2D((2, 2))(X)\n",
        "X = Conv2D(240, (4, 4), strides = (1, 1), padding='same')(X) \n",
        "X = BatchNormalization()(X)\n",
        "X = ReLU()(X)\n",
        "\n",
        "X = MaxPooling2D((2, 2))(X)\n",
        "X = Conv2D(240, (4, 4), strides = (1, 1), padding='same')(X) \n",
        "X = BatchNormalization()(X)\n",
        "X = ReLU()(X)\n",
        "\n",
        "\n",
        "#     X = MaxPooling2D((2, 2), name='max_pool2')(X)  \n",
        "#########################\n",
        "\n",
        "\n",
        "\n",
        "X = Flatten()(X)\n",
        "encoding = Dense(300, name='encoding', activation = \"relu\")(X)\n",
        "X = Dense(4*4*240, name='fc2', activation = \"relu\")(encoding)\n",
        "X = Reshape((4,4,240))(X)\n",
        "X = BatchNormalization()(X)\n",
        "\n",
        "#########################\n",
        "#     X = UpSampling2D((2, 2))(X)\n",
        "\n",
        "X = Conv2D(240, (8, 8), strides = (1, 1),  padding='same')(X) \n",
        "\n",
        "X = UpSampling2D((2, 2))(X)\n",
        "X = Conv2D(240, (16, 16), strides = (1, 1),  padding='same')(X)  \n",
        "X = BatchNormalization()(X)   \n",
        "X = ReLU()(X)\n",
        "\n",
        "X = UpSampling2D((2, 2))(X)\n",
        "X = Conv2D(200, (16, 16), strides = (1, 1),  padding='same')(X)  \n",
        "X = BatchNormalization()(X)\n",
        "X = ReLU()(X)\n",
        "\n",
        "X = UpSampling2D((2, 2))(X)\n",
        "X = Conv2D(160, (16, 16), strides = (1, 1),  padding='same')(X) \n",
        "X = BatchNormalization()(X)\n",
        "X = ReLU()(X)\n",
        "\n",
        "X = UpSampling2D((2, 2))(X)\n",
        "X = Conv2D(120, (16, 16), strides = (1, 1),  padding='same')(X) \n",
        "X = BatchNormalization()(X)\n",
        "X = ReLU()(X)\n",
        "X = Conv2D(3, (8, 8), strides = (1, 1),  padding='same')(X)#tahn\n",
        "X = BatchNormalization()(X)\n",
        "X = layers.Activation(activations.sigmoid)(X)\n",
        "\n",
        "\n",
        "\n",
        "\n",
        "\n",
        "full_model  = Model(inputs = X_input, outputs = X)\n",
        "# encoder = Model(X_input, encoding)\n",
        "# decoder = Model(encoding, X)\n",
        "\n",
        "full_model.compile('adam', 'mean_squared_error')"
      ],
      "execution_count": null,
      "outputs": []
    },
    {
      "cell_type": "code",
      "metadata": {
        "id": "Gy2GLs5r-Quc",
        "colab": {
          "base_uri": "https://localhost:8080/",
          "height": 1000
        },
        "outputId": "e931b0c7-7b6d-481a-f993-dd3721a5d9fb"
      },
      "source": [
        "print(full_model.summary())"
      ],
      "execution_count": null,
      "outputs": [
        {
          "output_type": "stream",
          "text": [
            "Model: \"functional_3\"\n",
            "_________________________________________________________________\n",
            "Layer (type)                 Output Shape              Param #   \n",
            "=================================================================\n",
            "input_6 (InputLayer)         [(None, 64, 64, 3)]       0         \n",
            "_________________________________________________________________\n",
            "batch_normalization_37 (Batc (None, 64, 64, 3)         12        \n",
            "_________________________________________________________________\n",
            "conv2d_37 (Conv2D)           (None, 64, 64, 120)       23160     \n",
            "_________________________________________________________________\n",
            "max_pooling2d_14 (MaxPooling (None, 32, 32, 120)       0         \n",
            "_________________________________________________________________\n",
            "conv2d_38 (Conv2D)           (None, 32, 32, 160)       172960    \n",
            "_________________________________________________________________\n",
            "batch_normalization_38 (Batc (None, 32, 32, 160)       640       \n",
            "_________________________________________________________________\n",
            "re_lu_16 (ReLU)              (None, 32, 32, 160)       0         \n",
            "_________________________________________________________________\n",
            "max_pooling2d_15 (MaxPooling (None, 16, 16, 160)       0         \n",
            "_________________________________________________________________\n",
            "conv2d_39 (Conv2D)           (None, 16, 16, 200)       512200    \n",
            "_________________________________________________________________\n",
            "batch_normalization_39 (Batc (None, 16, 16, 200)       800       \n",
            "_________________________________________________________________\n",
            "re_lu_17 (ReLU)              (None, 16, 16, 200)       0         \n",
            "_________________________________________________________________\n",
            "max_pooling2d_16 (MaxPooling (None, 8, 8, 200)         0         \n",
            "_________________________________________________________________\n",
            "conv2d_40 (Conv2D)           (None, 8, 8, 240)         768240    \n",
            "_________________________________________________________________\n",
            "batch_normalization_40 (Batc (None, 8, 8, 240)         960       \n",
            "_________________________________________________________________\n",
            "re_lu_18 (ReLU)              (None, 8, 8, 240)         0         \n",
            "_________________________________________________________________\n",
            "max_pooling2d_17 (MaxPooling (None, 4, 4, 240)         0         \n",
            "_________________________________________________________________\n",
            "conv2d_41 (Conv2D)           (None, 4, 4, 240)         921840    \n",
            "_________________________________________________________________\n",
            "batch_normalization_41 (Batc (None, 4, 4, 240)         960       \n",
            "_________________________________________________________________\n",
            "re_lu_19 (ReLU)              (None, 4, 4, 240)         0         \n",
            "_________________________________________________________________\n",
            "flatten_3 (Flatten)          (None, 3840)              0         \n",
            "_________________________________________________________________\n",
            "encoding (Dense)             (None, 300)               1152300   \n",
            "_________________________________________________________________\n",
            "fc2 (Dense)                  (None, 3840)              1155840   \n",
            "_________________________________________________________________\n",
            "reshape_3 (Reshape)          (None, 4, 4, 240)         0         \n",
            "_________________________________________________________________\n",
            "batch_normalization_42 (Batc (None, 4, 4, 240)         960       \n",
            "_________________________________________________________________\n",
            "conv2d_42 (Conv2D)           (None, 4, 4, 240)         3686640   \n",
            "_________________________________________________________________\n",
            "up_sampling2d_12 (UpSampling (None, 8, 8, 240)         0         \n",
            "_________________________________________________________________\n",
            "conv2d_43 (Conv2D)           (None, 8, 8, 240)         14745840  \n",
            "_________________________________________________________________\n",
            "batch_normalization_43 (Batc (None, 8, 8, 240)         960       \n",
            "_________________________________________________________________\n",
            "re_lu_20 (ReLU)              (None, 8, 8, 240)         0         \n",
            "_________________________________________________________________\n",
            "up_sampling2d_13 (UpSampling (None, 16, 16, 240)       0         \n",
            "_________________________________________________________________\n",
            "conv2d_44 (Conv2D)           (None, 16, 16, 200)       12288200  \n",
            "_________________________________________________________________\n",
            "batch_normalization_44 (Batc (None, 16, 16, 200)       800       \n",
            "_________________________________________________________________\n",
            "re_lu_21 (ReLU)              (None, 16, 16, 200)       0         \n",
            "_________________________________________________________________\n",
            "up_sampling2d_14 (UpSampling (None, 32, 32, 200)       0         \n",
            "_________________________________________________________________\n",
            "conv2d_45 (Conv2D)           (None, 32, 32, 160)       8192160   \n",
            "_________________________________________________________________\n",
            "batch_normalization_45 (Batc (None, 32, 32, 160)       640       \n",
            "_________________________________________________________________\n",
            "re_lu_22 (ReLU)              (None, 32, 32, 160)       0         \n",
            "_________________________________________________________________\n",
            "up_sampling2d_15 (UpSampling (None, 64, 64, 160)       0         \n",
            "_________________________________________________________________\n",
            "conv2d_46 (Conv2D)           (None, 64, 64, 120)       4915320   \n",
            "_________________________________________________________________\n",
            "batch_normalization_46 (Batc (None, 64, 64, 120)       480       \n",
            "_________________________________________________________________\n",
            "re_lu_23 (ReLU)              (None, 64, 64, 120)       0         \n",
            "_________________________________________________________________\n",
            "conv2d_47 (Conv2D)           (None, 64, 64, 3)         23043     \n",
            "_________________________________________________________________\n",
            "batch_normalization_47 (Batc (None, 64, 64, 3)         12        \n",
            "_________________________________________________________________\n",
            "activation_1 (Activation)    (None, 64, 64, 3)         0         \n",
            "=================================================================\n",
            "Total params: 48,564,967\n",
            "Trainable params: 48,561,355\n",
            "Non-trainable params: 3,612\n",
            "_________________________________________________________________\n",
            "None\n"
          ],
          "name": "stdout"
        }
      ]
    },
    {
      "cell_type": "markdown",
      "metadata": {
        "id": "wmEG-teoun9s"
      },
      "source": [
        "## Entrenamos"
      ]
    },
    {
      "cell_type": "markdown",
      "metadata": {
        "id": "XOYWyVXpwlIO"
      },
      "source": [
        "Habria que hacerlo por checkpoints\n",
        "https://machinelearningmastery.com/check-point-deep-learning-models-keras/\n"
      ]
    },
    {
      "cell_type": "code",
      "metadata": {
        "id": "PYvV5wdsA5zW"
      },
      "source": [
        "for i in range(8,18): \n",
        "  print(i)\n",
        "  history = full_model.fit(index, X, epochs=10)\n",
        "#   plt.plot(history.history['loss'])#100\n",
        "  # Guardar modelo en JSON\n",
        "  model_json = full_model.to_json()\n",
        "  with open(PATH + \"/modelos/modeloV2_\"+str(i*10)+\".json\", \"w\") as json_file:\n",
        "      json_file.write(model_json)\n",
        "  # Guardar Weights\n",
        "  full_model.save_weights(PATH + \"/modelos/modeloV2_\"+str(i*10)+\".h5\")\n",
        "  print(\"Model saved\")"
      ],
      "execution_count": null,
      "outputs": []
    },
    {
      "cell_type": "code",
      "metadata": {
        "id": "FtTAeBYdZTfM",
        "colab": {
          "base_uri": "https://localhost:8080/",
          "height": 1000
        },
        "outputId": "dc0e550b-0050-4cd7-ff2f-0fcecd60762a"
      },
      "source": [
        "history = full_model.fit(X_img, X_img, epochs=20)\n",
        "plt.plot(history.history['loss'])#100"
      ],
      "execution_count": null,
      "outputs": [
        {
          "output_type": "stream",
          "text": [
            "Epoch 1/20\n",
            "  2/178 [..............................] - ETA: 23s - loss: 0.0882WARNING:tensorflow:Callbacks method `on_train_batch_end` is slow compared to the batch time (batch time: 0.0139s vs `on_train_batch_end` time: 0.2529s). Check your callbacks.\n",
            "178/178 [==============================] - 48s 269ms/step - loss: 0.0376\n",
            "Epoch 2/20\n",
            "178/178 [==============================] - 49s 278ms/step - loss: 0.0255\n",
            "Epoch 3/20\n",
            "178/178 [==============================] - 50s 283ms/step - loss: 0.0217\n",
            "Epoch 4/20\n",
            "178/178 [==============================] - 51s 284ms/step - loss: 0.0185\n",
            "Epoch 5/20\n",
            "178/178 [==============================] - 51s 288ms/step - loss: 0.0177\n",
            "Epoch 6/20\n",
            "178/178 [==============================] - 52s 289ms/step - loss: 0.0170\n",
            "Epoch 7/20\n",
            "178/178 [==============================] - 52s 291ms/step - loss: 0.0160\n",
            "Epoch 8/20\n",
            "178/178 [==============================] - 52s 293ms/step - loss: 0.0152\n",
            "Epoch 9/20\n",
            "178/178 [==============================] - 52s 293ms/step - loss: 0.0140\n",
            "Epoch 10/20\n",
            "178/178 [==============================] - 52s 294ms/step - loss: 0.0134\n",
            "Epoch 11/20\n",
            "178/178 [==============================] - 52s 294ms/step - loss: 0.0128\n",
            "Epoch 12/20\n",
            "178/178 [==============================] - 52s 294ms/step - loss: 0.0124\n",
            "Epoch 13/20\n",
            "178/178 [==============================] - 52s 294ms/step - loss: 0.0120\n",
            "Epoch 14/20\n",
            "178/178 [==============================] - 52s 294ms/step - loss: 0.0118\n",
            "Epoch 15/20\n",
            "178/178 [==============================] - 52s 295ms/step - loss: 0.0115\n",
            "Epoch 16/20\n",
            "178/178 [==============================] - 52s 294ms/step - loss: 0.0111\n",
            "Epoch 17/20\n",
            "178/178 [==============================] - 52s 294ms/step - loss: 0.0108\n",
            "Epoch 18/20\n",
            "178/178 [==============================] - 52s 294ms/step - loss: 0.0104\n",
            "Epoch 19/20\n",
            "178/178 [==============================] - 52s 294ms/step - loss: 0.0102\n",
            "Epoch 20/20\n",
            "178/178 [==============================] - 52s 294ms/step - loss: 0.0100\n"
          ],
          "name": "stdout"
        },
        {
          "output_type": "execute_result",
          "data": {
            "text/plain": [
              "[<matplotlib.lines.Line2D at 0x7f8524981630>]"
            ]
          },
          "metadata": {
            "tags": []
          },
          "execution_count": 23
        },
        {
          "output_type": "display_data",
          "data": {
            "image/png": "[encoded data removed]",
            "text/plain": [
              "<Figure size 432x288 with 1 Axes>"
            ]
          },
          "metadata": {
            "tags": [],
            "needs_background": "light"
          }
        }
      ]
    },
    {
      "cell_type": "markdown",
      "metadata": {
        "id": "NrxrXC-4a4IZ"
      },
      "source": [
        "## Guardamos"
      ]
    },
    {
      "cell_type": "code",
      "metadata": {
        "id": "I4mW2WHF4tHr",
        "colab": {
          "base_uri": "https://localhost:8080/",
          "height": 35
        },
        "outputId": "0a48ba32-a5ee-4ef8-815b-99ed499ec639"
      },
      "source": [
        "# Guardar modelo en JSON\n",
        "model_json = full_model.to_json()\n",
        "with open(PATH + \"/modelos_embedings/modelo_reformas.json\", \"w\") as json_file:\n",
        "    json_file.write(model_json)\n",
        "# Guardar Weights\n",
        "full_model.save_weights(PATH + \"/modelos_embedings/modelo_reformas.h5\")\n",
        "print(\"Model saved\")"
      ],
      "execution_count": null,
      "outputs": [
        {
          "output_type": "stream",
          "text": [
            "Model saved\n"
          ],
          "name": "stdout"
        }
      ]
    },
    {
      "cell_type": "code",
      "metadata": {
        "id": "C5rN_6tKhiN-"
      },
      "source": [
        "# Cargar modelo\n",
        "json_file = open(PATH + '/modelos/modelo600Huge4.json', 'r')\n",
        "loaded_model_json = json_file.read()\n",
        "json_file.close()\n",
        "full_model = model_from_json(loaded_model_json)\n",
        "# Cargar Weights (Lo que ya ha aprendido)\n",
        "full_model.load_weights(PATH + \"/modelos/modelo600Huge4.h5\")\n",
        "# Compilar modelo par apoder entrenarlo\n",
        "full_model.compile('adam', 'mean_squared_error')\n",
        "print(\"Model loaded\")"
      ],
      "execution_count": null,
      "outputs": []
    },
    {
      "cell_type": "markdown",
      "metadata": {
        "id": "w_Xn0SRRxmm5"
      },
      "source": [
        "## Usamos"
      ]
    },
    {
      "cell_type": "code",
      "metadata": {
        "id": "Cj6fPJpCiJIx",
        "colab": {
          "base_uri": "https://localhost:8080/",
          "height": 269
        },
        "outputId": "d99f17bc-bd1c-40f8-915c-2e413fa84322"
      },
      "source": [
        "c = 0\n",
        "a, b = c, c+2\n",
        "fig, axs = plt.subplots(b-a, 2)\n",
        "X_pred = full_model.predict(X_img[0:50])\n",
        "for i in range(a,b):\n",
        "\n",
        "  axs[i-a,0].imshow(X_img[i])\n",
        "\n",
        "  axs[i-a,1].imshow(X_pred[i])"
      ],
      "execution_count": null,
      "outputs": [
        {
          "output_type": "display_data",
          "data": {
            "image/png": "[encoded data removed]",
            "text/plain": [
              "<Figure size 432x288 with 4 Axes>"
            ]
          },
          "metadata": {
            "tags": [],
            "needs_background": "light"
          }
        }
      ]
    },
    {
      "cell_type": "markdown",
      "metadata": {
        "id": "dNkIbVesxT7I"
      },
      "source": [
        "## Dividimos el modelo"
      ]
    },
    {
      "cell_type": "markdown",
      "metadata": {
        "id": "-TI5tzDZKFEj"
      },
      "source": [
        "Hay que dividirlo en encoder y decoder para poder manejar las caras con sliders"
      ]
    },
    {
      "cell_type": "code",
      "metadata": {
        "id": "FBRSNMUoEJN4"
      },
      "source": [
        "encoder = Model(inputs=full_model.input, outputs=full_model.layers[20].output)"
      ],
      "execution_count": null,
      "outputs": []
    },
    {
      "cell_type": "code",
      "metadata": {
        "id": "mRtzA4xsmoD2"
      },
      "source": [
        "inp = Input((300,))\n",
        "Y = full_model.layers[21](inp)\n",
        "for i in range(22, 39):\n",
        "  Y = full_model.layers[i](Y)\n",
        "  \n",
        "decoder=Model(inp, Y)"
      ],
      "execution_count": null,
      "outputs": []
    },
    {
      "cell_type": "code",
      "metadata": {
        "id": "xuD-4MyunTmx"
      },
      "source": [
        "decoder.summary()"
      ],
      "execution_count": null,
      "outputs": []
    },
    {
      "cell_type": "code",
      "metadata": {
        "id": "ecCmZECWoP4u"
      },
      "source": [
        "encoder.summary()"
      ],
      "execution_count": null,
      "outputs": []
    },
    {
      "cell_type": "code",
      "metadata": {
        "id": "75lyE0f2LqaU"
      },
      "source": [
        "enc = encoder.predict(X_img)\n",
        "pre = decoder.predict(enc)"
      ],
      "execution_count": null,
      "outputs": []
    },
    {
      "cell_type": "code",
      "metadata": {
        "id": "Y70SHYFTMCSa"
      },
      "source": [
        "print(enc.shape)\n",
        "print(pre.shape)"
      ],
      "execution_count": null,
      "outputs": []
    },
    {
      "cell_type": "code",
      "metadata": {
        "id": "FzKvUsv-ryAj"
      },
      "source": [
        "plt.imshow(pre[0])"
      ],
      "execution_count": null,
      "outputs": []
    },
    {
      "cell_type": "markdown",
      "metadata": {
        "id": "DnOZXH8DxEP2"
      },
      "source": [
        "# Usamos solo embedings\n",
        "En vez de usar un encoder y un decoder solo usamos un decoder. Esto lo logramos haciendo que la red neuronal aprenda directamente los 'embedings' en vez de generarlos con un encoder. Es decir se apredenra de memoria el enc de cada foto. En vez de aprender todo el encoder, solo tiene que aprender los enc.\n",
        "\n",
        "La desventaja es que no funciona con caras nuevas que no ha visto nunca."
      ]
    },
    {
      "cell_type": "markdown",
      "metadata": {
        "id": "PeY7P4sHyJmZ"
      },
      "source": [
        "## Preparamos el input\r\n",
        "Tiene que ser un one hot encoding por cada imagen"
      ]
    },
    {
      "cell_type": "code",
      "metadata": {
        "id": "-sN-Uc_YPNih",
        "colab": {
          "base_uri": "https://localhost:8080/"
        },
        "outputId": "3aafcfe6-ce0b-4ab7-e582-d5ed2a0a9469"
      },
      "source": [
        "def COH(Y, C): #one hot vector\n",
        "    Y = np.eye(C)[Y.reshape(-1)].T\n",
        "    return Y\n",
        "\n",
        "\n",
        "index = []\n",
        "for i in range(X_img.shape[0]):\n",
        "  index.append(i)\n",
        "index = np.asarray(index)\n",
        "index = COH(index, X_img.shape[0])\n",
        "index"
      ],
      "execution_count": 19,
      "outputs": [
        {
          "output_type": "execute_result",
          "data": {
            "text/plain": [
              "array([[1., 0., 0., ..., 0., 0., 0.],\n",
              "       [0., 1., 0., ..., 0., 0., 0.],\n",
              "       [0., 0., 1., ..., 0., 0., 0.],\n",
              "       ...,\n",
              "       [0., 0., 0., ..., 1., 0., 0.],\n",
              "       [0., 0., 0., ..., 0., 1., 0.],\n",
              "       [0., 0., 0., ..., 0., 0., 1.]])"
            ]
          },
          "metadata": {
            "tags": []
          },
          "execution_count": 19
        }
      ]
    },
    {
      "cell_type": "markdown",
      "metadata": {
        "id": "AtO1dKlIyGNe"
      },
      "source": [
        "## Modelo"
      ]
    },
    {
      "cell_type": "code",
      "metadata": {
        "id": "dNuXao71NyBm"
      },
      "source": [
        "def model(size):\n",
        "    X_input = Input((size,))\n",
        "\n",
        "    X = Dense(300, name='encoding',  use_bias=False)(X_input) ##esto es el embeding que tiene que aprender\n",
        "    X = Dense(8*8*30, name='fc1')(X)\n",
        "    X = Reshape((8,8,30))(X)\n",
        "\n",
        "    #########################\n",
        "    \n",
        "    X = Conv2D(60, (6, 6), strides = (1, 1),  padding='same', activation=\"relu\")(X) \n",
        "    X = Conv2D(60, (6, 6), strides = (1, 1),  padding='same', activation=\"relu\")(X) \n",
        "\n",
        "    \n",
        "    X = UpSampling2D((2, 2))(X)\n",
        "    X = Conv2D(40, (6, 6), strides = (1, 1),  padding='same', activation=\"relu\")(X)\n",
        "    X = Conv2D(40, (4, 4), strides = (1, 1),  padding='same', activation=\"relu\")(X) \n",
        "    # X = Conv2D(40, (4, 4), strides = (1, 1),  padding='same', activation=\"relu\")(X)\n",
        "\n",
        "    \n",
        "    X = UpSampling2D((2, 2))(X)\n",
        "    X = Conv2D(20, (6, 6), strides = (1, 1),  padding='same', activation=\"relu\")(X) \n",
        "    X = Conv2D(20, (4, 4), strides = (1, 1),  padding='same', activation=\"relu\")(X)\n",
        "    # X = Conv2D(20, (4, 4), strides = (1, 1),  padding='same', activation=\"relu\")(X)\n",
        "\n",
        "    \n",
        "    X = UpSampling2D((2, 2))(X)\n",
        "    X = Conv2D(10, (6, 6), strides = (1, 1),  padding='same', activation=\"relu\")(X)\n",
        "    X = Conv2D(10, (4, 4), strides = (1, 1),  padding='same', activation=\"relu\")(X) \n",
        "    X = Conv2D(3, (8, 8), strides = (1, 1),  padding='same', activation=\"sigmoid\")(X)#tahn\n",
        "\n",
        "\n",
        "\n",
        "  \n",
        "    \n",
        "    \n",
        "    model = Model(inputs = X_input, outputs = X, name='Model')\n",
        "\n",
        "    return model\n",
        "  \n",
        "  \n",
        "  \n",
        "full_model_e  = model(X.shape[0]) \n",
        "full_model_e.compile('adam', 'mean_squared_error')"
      ],
      "execution_count": null,
      "outputs": []
    },
    {
      "cell_type": "code",
      "metadata": {
        "id": "-yMoY64fWmzL",
        "colab": {
          "base_uri": "https://localhost:8080/",
          "height": 736
        },
        "outputId": "eb4dd337-5753-4ca6-d305-805d2f0f6b82"
      },
      "source": [
        "full_model_e.summary()"
      ],
      "execution_count": null,
      "outputs": [
        {
          "output_type": "stream",
          "text": [
            "Model: \"Model\"\n",
            "_________________________________________________________________\n",
            "Layer (type)                 Output Shape              Param #   \n",
            "=================================================================\n",
            "input_4 (InputLayer)         (None, 5696)              0         \n",
            "_________________________________________________________________\n",
            "encoding (Dense)             (None, 300)               1708800   \n",
            "_________________________________________________________________\n",
            "fc2 (Dense)                  (None, 1920)              577920    \n",
            "_________________________________________________________________\n",
            "reshape_4 (Reshape)          (None, 8, 8, 30)          0         \n",
            "_________________________________________________________________\n",
            "conv2d_30 (Conv2D)           (None, 8, 8, 60)          64860     \n",
            "_________________________________________________________________\n",
            "conv2d_31 (Conv2D)           (None, 8, 8, 60)          129660    \n",
            "_________________________________________________________________\n",
            "up_sampling2d_10 (UpSampling (None, 16, 16, 60)        0         \n",
            "_________________________________________________________________\n",
            "conv2d_32 (Conv2D)           (None, 16, 16, 40)        86440     \n",
            "_________________________________________________________________\n",
            "conv2d_33 (Conv2D)           (None, 16, 16, 40)        25640     \n",
            "_________________________________________________________________\n",
            "up_sampling2d_11 (UpSampling (None, 32, 32, 40)        0         \n",
            "_________________________________________________________________\n",
            "conv2d_34 (Conv2D)           (None, 32, 32, 20)        28820     \n",
            "_________________________________________________________________\n",
            "conv2d_35 (Conv2D)           (None, 32, 32, 20)        6420      \n",
            "_________________________________________________________________\n",
            "up_sampling2d_12 (UpSampling (None, 64, 64, 20)        0         \n",
            "_________________________________________________________________\n",
            "conv2d_36 (Conv2D)           (None, 64, 64, 10)        7210      \n",
            "_________________________________________________________________\n",
            "conv2d_37 (Conv2D)           (None, 64, 64, 10)        1610      \n",
            "_________________________________________________________________\n",
            "conv2d_38 (Conv2D)           (None, 64, 64, 3)         1923      \n",
            "=================================================================\n",
            "Total params: 2,639,303\n",
            "Trainable params: 2,639,303\n",
            "Non-trainable params: 0\n",
            "_________________________________________________________________\n"
          ],
          "name": "stdout"
        }
      ]
    },
    {
      "cell_type": "markdown",
      "metadata": {
        "id": "q_4JskFc0A_e"
      },
      "source": [
        "## Entrenamos"
      ]
    },
    {
      "cell_type": "markdown",
      "metadata": {
        "id": "_cy80A5s0MDo"
      },
      "source": [
        "Habria que hacerlo por checkpoints\n",
        "https://machinelearningmastery.com/check-point-deep-learning-models-keras/"
      ]
    },
    {
      "cell_type": "code",
      "metadata": {
        "id": "0bZH57DCz_Lz",
        "colab": {
          "base_uri": "https://localhost:8080/",
          "height": 272
        },
        "outputId": "48608443-0751-46e3-d29a-9ba7659d46bc"
      },
      "source": [
        "for i in range(0,1): \n",
        "  print(i)\n",
        "  history = full_model_e.fit(index, X, epochs=10)\n",
        "#   plt.plot(history.history['loss'])#100\n",
        "  # Guardar modelo en JSON\n",
        "  model_json = full_model_e.to_json()\n",
        "  with open(PATH + \"/modelos_embedings/modeloV3_\"+str(i*10)+\".json\", \"w\") as json_file:\n",
        "      json_file.write(model_json)\n",
        "  # Guardar Weights\n",
        "  full_model_e.save_weights(PATH + \"/modelos_embedings/modeloV3_\"+str(i*10)+\".h5\")\n",
        "  print(\"Model saved\")"
      ],
      "execution_count": null,
      "outputs": [
        {
          "output_type": "stream",
          "text": [
            "0\n",
            "Epoch 1/10\n",
            "5696/5696 [==============================] - 29s 5ms/step - loss: 0.0441\n",
            "Epoch 2/10\n",
            "5696/5696 [==============================] - 29s 5ms/step - loss: 0.0437\n",
            "Epoch 3/10\n",
            "5696/5696 [==============================] - 29s 5ms/step - loss: 0.0431\n",
            "Epoch 4/10\n",
            "5696/5696 [==============================] - 29s 5ms/step - loss: 0.0419\n",
            "Epoch 5/10\n",
            "5696/5696 [==============================] - 29s 5ms/step - loss: 0.0417\n",
            "Epoch 6/10\n",
            "5696/5696 [==============================] - 29s 5ms/step - loss: 0.0417\n",
            "Epoch 7/10\n",
            "5600/5696 [============================>.] - ETA: 0s - loss: 0.0416"
          ],
          "name": "stdout"
        }
      ]
    },
    {
      "cell_type": "code",
      "metadata": {
        "id": "ZM8aIbl0j40C",
        "colab": {
          "base_uri": "https://localhost:8080/",
          "height": 448
        },
        "outputId": "8ae44f7c-46ed-456b-8946-8175fbb17d67"
      },
      "source": [
        "history = full_model_e.fit(index, X, epochs=10)"
      ],
      "execution_count": null,
      "outputs": [
        {
          "output_type": "stream",
          "text": [
            "WARNING:tensorflow:From /usr/local/lib/python3.6/dist-packages/keras/backend/tensorflow_backend.py:1033: The name tf.assign_add is deprecated. Please use tf.compat.v1.assign_add instead.\n",
            "\n",
            "WARNING:tensorflow:From /usr/local/lib/python3.6/dist-packages/keras/backend/tensorflow_backend.py:1020: The name tf.assign is deprecated. Please use tf.compat.v1.assign instead.\n",
            "\n",
            "Epoch 1/10\n",
            "5696/5696 [==============================] - 11s 2ms/step - loss: 0.0029\n",
            "Epoch 2/10\n",
            "5696/5696 [==============================] - 10s 2ms/step - loss: 0.0026\n",
            "Epoch 3/10\n",
            "5696/5696 [==============================] - 10s 2ms/step - loss: 0.0026\n",
            "Epoch 4/10\n",
            "5696/5696 [==============================] - 10s 2ms/step - loss: 0.0028\n",
            "Epoch 5/10\n",
            "5696/5696 [==============================] - 10s 2ms/step - loss: 0.0029\n",
            "Epoch 6/10\n",
            "5696/5696 [==============================] - 10s 2ms/step - loss: 0.0029\n",
            "Epoch 7/10\n",
            "5696/5696 [==============================] - 10s 2ms/step - loss: 0.0028\n",
            "Epoch 8/10\n",
            "5696/5696 [==============================] - 10s 2ms/step - loss: 0.0028\n",
            "Epoch 9/10\n",
            "5696/5696 [==============================] - 10s 2ms/step - loss: 0.0029\n",
            "Epoch 10/10\n",
            "5696/5696 [==============================] - 10s 2ms/step - loss: 0.0029\n"
          ],
          "name": "stdout"
        }
      ]
    },
    {
      "cell_type": "markdown",
      "metadata": {
        "id": "aVD-zrWR0cWY"
      },
      "source": [
        "## Guardamos"
      ]
    },
    {
      "cell_type": "code",
      "metadata": {
        "id": "nMIejm8n0X2V",
        "colab": {
          "base_uri": "https://localhost:8080/",
          "height": 34
        },
        "outputId": "17c27e21-098c-4db7-977e-1c3bbcd0c2b4"
      },
      "source": [
        "# Guardar modelo en JSON\n",
        "model_json = full_model_e.to_json()\n",
        "with open(PATH + \"/modelos_embedings/modelo2_200.json\", \"w\") as json_file:\n",
        "    json_file.write(model_json)\n",
        "# Guardar Weights\n",
        "full_model_e.save_weights(PATH + \"/modelos_embedings/modelo2_200.h5\")\n",
        "print(\"Model saved\")"
      ],
      "execution_count": null,
      "outputs": [
        {
          "output_type": "stream",
          "text": [
            "Model saved\n"
          ],
          "name": "stdout"
        }
      ]
    },
    {
      "cell_type": "code",
      "metadata": {
        "id": "TQfxCRMS0bn7",
        "colab": {
          "base_uri": "https://localhost:8080/"
        },
        "outputId": "9964dbbe-f5da-47ea-b8d3-f40e2ec07d07"
      },
      "source": [
        "# Cargar modelo\n",
        "json_file = open(PATH + '/modelos_embedings/modelo2_200.json', 'r')\n",
        "loaded_model_json = json_file.read()\n",
        "json_file.close()\n",
        "full_model_e = model_from_json(loaded_model_json)\n",
        "# Cargar Weights (Lo que ya ha aprendido)\n",
        "full_model_e.load_weights(PATH + \"/modelos_embedings/modelo2_200.h5\")\n",
        "# Compilar modelo par apoder entrenarlo\n",
        "full_model_e.compile('adam', 'mean_squared_error')\n",
        "print(\"Model loaded\")"
      ],
      "execution_count": 6,
      "outputs": [
        {
          "output_type": "stream",
          "text": [
            "Model loaded\n"
          ],
          "name": "stdout"
        }
      ]
    },
    {
      "cell_type": "markdown",
      "metadata": {
        "id": "K6PdjNB-x3ZD"
      },
      "source": [
        "## Usamos"
      ]
    },
    {
      "cell_type": "code",
      "metadata": {
        "id": "QMqOjM-ea0Jf",
        "colab": {
          "base_uri": "https://localhost:8080/",
          "height": 268
        },
        "outputId": "72c40d71-5e85-4732-855c-92182c424f40"
      },
      "source": [
        "c = 1000\n",
        "a, b = c, c+2\n",
        "fig, axs = plt.subplots(b-a, 2)\n",
        "X_pred = full_model_e.predict(index[0:1050])\n",
        "for i in range(a,b):\n",
        "#   plt.subplot((b-a)*100+(b-a)*10+i*2+1)\n",
        "  axs[i-a,0].imshow(X[i])\n",
        "#   plt.subplot((b-a)*100+20+i*2+2)\n",
        "  axs[i-a,1].imshow(X_pred[i])"
      ],
      "execution_count": null,
      "outputs": [
        {
          "output_type": "display_data",
          "data": {
            "image/png": "[encoded data removed]",
            "text/plain": [
              "<Figure size 432x288 with 4 Axes>"
            ]
          },
          "metadata": {
            "tags": []
          }
        }
      ]
    },
    {
      "cell_type": "markdown",
      "metadata": {
        "id": "0tT8YKaJSln3"
      },
      "source": [
        "### Dividimos el modelo"
      ]
    },
    {
      "cell_type": "code",
      "metadata": {
        "id": "T_pfrZOCSjuE"
      },
      "source": [
        "inp = Input((300,))\n",
        "Y = full_model_e.layers[2](inp)\n",
        "for i in range(3, 16):\n",
        "  Y = full_model_e.layers[i](Y)\n",
        "  \n",
        "decoder_e=Model(inp, Y)"
      ],
      "execution_count": 7,
      "outputs": []
    },
    {
      "cell_type": "code",
      "metadata": {
        "id": "zEuBpLiiSkAj"
      },
      "source": [
        "enc = full_model_e.layers[1].get_weights()"
      ],
      "execution_count": 8,
      "outputs": []
    },
    {
      "cell_type": "code",
      "metadata": {
        "id": "5pmShbsDS657"
      },
      "source": [
        "enc = np.asarray(enc)\n",
        "enc = enc[0]"
      ],
      "execution_count": 10,
      "outputs": []
    },
    {
      "cell_type": "markdown",
      "metadata": {
        "id": "X32_AggOscCp"
      },
      "source": [
        "#PCA"
      ]
    },
    {
      "cell_type": "code",
      "metadata": {
        "id": "SLI2Dz4zCQfa"
      },
      "source": [
        "enc = encoder.predict(X)\n",
        "pre = decoder.predict(enc)"
      ],
      "execution_count": null,
      "outputs": []
    },
    {
      "cell_type": "code",
      "metadata": {
        "id": "1koMpNiDsbe3"
      },
      "source": [
        "from sklearn.decomposition import PCA\n",
        "pca=PCA()\n",
        "pca_enc = pca.fit_transform(enc)"
      ],
      "execution_count": 11,
      "outputs": []
    },
    {
      "cell_type": "code",
      "metadata": {
        "id": "F35Net3_tl7H",
        "colab": {
          "base_uri": "https://localhost:8080/",
          "height": 303
        },
        "outputId": "e1c662d6-9d19-43f2-e775-34db701a4c21"
      },
      "source": [
        "print(np.argmax(pca_enc, axis=1))\n",
        "# pca_enc[3,6] = -5\n",
        "enc2 = pca.inverse_transform(pca_enc[0:1100])\n",
        "pre2 = decoder_e.predict(enc2)\n",
        "plt.imshow(pre2[1001])"
      ],
      "execution_count": 12,
      "outputs": [
        {
          "output_type": "stream",
          "text": [
            "[2 9 6 ... 4 0 9]\n"
          ],
          "name": "stdout"
        },
        {
          "output_type": "execute_result",
          "data": {
            "text/plain": [
              "<matplotlib.image.AxesImage at 0x7f3ffbfd9f60>"
            ]
          },
          "metadata": {
            "tags": []
          },
          "execution_count": 12
        },
        {
          "output_type": "display_data",
          "data": {
            "image/png": "[encoded data removed]",
            "text/plain": [
              "<Figure size 432x288 with 1 Axes>"
            ]
          },
          "metadata": {
            "tags": [],
            "needs_background": "light"
          }
        }
      ]
    },
    {
      "cell_type": "code",
      "metadata": {
        "id": "1pbZcqMDuArq",
        "colab": {
          "base_uri": "https://localhost:8080/",
          "height": 285
        },
        "outputId": "44cf0c7d-db45-4b19-84e4-6660a58d9123"
      },
      "source": [
        "pre = full_model_e.predict(index[0:40])\n",
        "plt.imshow(pre[34])"
      ],
      "execution_count": 20,
      "outputs": [
        {
          "output_type": "execute_result",
          "data": {
            "text/plain": [
              "<matplotlib.image.AxesImage at 0x7f3ffbea7128>"
            ]
          },
          "metadata": {
            "tags": []
          },
          "execution_count": 20
        },
        {
          "output_type": "display_data",
          "data": {
            "image/png": "[encoded data removed]",
            "text/plain": [
              "<Figure size 432x288 with 1 Axes>"
            ]
          },
          "metadata": {
            "tags": [],
            "needs_background": "light"
          }
        }
      ]
    },
    {
      "cell_type": "code",
      "metadata": {
        "id": "m0p7e_2Sv2pg",
        "colab": {
          "base_uri": "https://localhost:8080/"
        },
        "outputId": "cb293da0-03d7-44b7-ac46-ff40e91a243e"
      },
      "source": [
        "print(pca.explained_variance_ratio_)#singular_values_"
      ],
      "execution_count": 21,
      "outputs": [
        {
          "output_type": "stream",
          "text": [
            "[0.07560578 0.04469287 0.03801776 0.0269111  0.02169086 0.02049861\n",
            " 0.01766976 0.01709438 0.01508802 0.01414306 0.01361461 0.01236472\n",
            " 0.01185054 0.01125159 0.01075714 0.00947028 0.00935532 0.00901326\n",
            " 0.00875825 0.00816792 0.00808483 0.00782336 0.00754425 0.00729234\n",
            " 0.00727745 0.00687558 0.00664343 0.00622878 0.00619379 0.00612695\n",
            " 0.00604464 0.00596221 0.00570126 0.00558428 0.00542471 0.00538799\n",
            " 0.00527383 0.00519341 0.00511335 0.00501767 0.00488642 0.00480985\n",
            " 0.00473839 0.00471642 0.00457642 0.00449582 0.00442696 0.00436125\n",
            " 0.00431924 0.00420606 0.00417619 0.00413198 0.00408717 0.00405703\n",
            " 0.00403699 0.00388399 0.00382506 0.00379151 0.00375982 0.00373977\n",
            " 0.00368216 0.00363834 0.00363304 0.00359969 0.00353057 0.00347308\n",
            " 0.00341509 0.00339702 0.00335494 0.00332139 0.00329804 0.00327823\n",
            " 0.00325923 0.00322913 0.00320535 0.00314698 0.00311767 0.0031121\n",
            " 0.00310259 0.0030414  0.00301506 0.00298658 0.00297423 0.00294984\n",
            " 0.0029136  0.00287761 0.00287278 0.00286344 0.00283125 0.00279066\n",
            " 0.00278765 0.00274244 0.00272815 0.00270375 0.00269735 0.0026589\n",
            " 0.00263988 0.00262552 0.0026108  0.00259599 0.0025651  0.00253073\n",
            " 0.00251066 0.00250416 0.00248492 0.00247953 0.00246064 0.00245224\n",
            " 0.00241299 0.00240928 0.00237774 0.00236264 0.00235449 0.00234904\n",
            " 0.00232698 0.0023109  0.00230059 0.00229016 0.00228583 0.00226377\n",
            " 0.00222613 0.00221765 0.00220479 0.0021914  0.00218022 0.0021731\n",
            " 0.00215801 0.00214008 0.00211955 0.00210893 0.00210042 0.00208902\n",
            " 0.00206297 0.00204312 0.00202932 0.0020174  0.00200012 0.00198834\n",
            " 0.00198567 0.00195551 0.00195191 0.00193417 0.00192321 0.00190796\n",
            " 0.00189401 0.0018826  0.00186992 0.00186707 0.00185361 0.00184675\n",
            " 0.00183152 0.00182855 0.00181462 0.00180207 0.00176591 0.00176121\n",
            " 0.00174067 0.00173815 0.00172757 0.00171813 0.00171167 0.00169303\n",
            " 0.00168476 0.00167349 0.00165422 0.00165124 0.00164233 0.00162745\n",
            " 0.00161809 0.00160966 0.00159571 0.00158288 0.00157769 0.00156631\n",
            " 0.00155923 0.00155104 0.00153292 0.0015281  0.00152253 0.00150142\n",
            " 0.00149303 0.00148282 0.00147136 0.00146557 0.00146033 0.00145541\n",
            " 0.0014341  0.00143014 0.00142463 0.0014153  0.00139819 0.00138893\n",
            " 0.00137114 0.00135867 0.00134761 0.00133718 0.0013215  0.00131406\n",
            " 0.00130727 0.00129716 0.001294   0.00128373 0.00126455 0.00126267\n",
            " 0.00124968 0.00124496 0.0012402  0.00123081 0.0012217  0.00120844\n",
            " 0.00119129 0.00118491 0.00117814 0.00116296 0.00115264 0.0011417\n",
            " 0.00113329 0.001129   0.0011152  0.00111347 0.00110361 0.00109191\n",
            " 0.0010863  0.00108287 0.00107405 0.00105305 0.00104422 0.00103581\n",
            " 0.00103094 0.00102199 0.00101537 0.00100527 0.00099324 0.00097668\n",
            " 0.00097332 0.0009619  0.00096088 0.00094786 0.00094358 0.00093418\n",
            " 0.00092599 0.00091565 0.00091508 0.00090445 0.00089244 0.00088452\n",
            " 0.00087594 0.00086287 0.00084679 0.00084566 0.00083944 0.0008322\n",
            " 0.0008262  0.00081853 0.00080621 0.00079784 0.00079075 0.00078416\n",
            " 0.00077434 0.00077227 0.00076439 0.00074603 0.00073691 0.00073298\n",
            " 0.00072103 0.0007116  0.00070904 0.0006949  0.00068276 0.0006776\n",
            " 0.0006741  0.00066037 0.00064958 0.00063957 0.00062788 0.00062305\n",
            " 0.00061722 0.00061361 0.00060201 0.00058909 0.00058032 0.00057229\n",
            " 0.00056363 0.00055509 0.00054794 0.00053885 0.00053629 0.00051992\n",
            " 0.00051274 0.00050769 0.00050024 0.00048973 0.00048385 0.00047064\n",
            " 0.00046294 0.00045666 0.00044888 0.00043692 0.0004121  0.00039817]\n"
          ],
          "name": "stdout"
        }
      ]
    },
    {
      "cell_type": "markdown",
      "metadata": {
        "id": "rwvnjUz3A219"
      },
      "source": [
        "https://colab.research.google.com/notebooks/forms.ipynb#scrollTo=ad-fjFOQxoFG"
      ]
    },
    {
      "cell_type": "code",
      "metadata": {
        "id": "DUWkWKa3C4Xt",
        "colab": {
          "base_uri": "https://localhost:8080/",
          "height": 285
        },
        "outputId": "0cd334c7-6f19-4eee-efcf-e2bda63b7f22"
      },
      "source": [
        "#@title Number fields { run: \"auto\" }\n",
        "a=0\n",
        "img_pca_enc = pca_enc[34]\n",
        "\n",
        "# for i in range(300):\n",
        "#    img_pca_enc[i] = 0\n",
        "\n",
        "img_pca_enc_0 = 0.6 #@param {type:\"slider\", min:-10, max:10, step:0.1}\n",
        "img_pca_enc_1 = -1   #@param {type:\"slider\", min:-10, max:10, step:1}\n",
        "img_pca_enc_2 = -1   #@param {type:\"slider\", min:-10, max:10, step:1}\n",
        "img_pca_enc_3 = 0   #@param {type:\"slider\", min:-10, max:10, step:1}\n",
        "img_pca_enc_4 = 0   #@param {type:\"slider\", min:-10, max:10, step:1}\n",
        "img_pca_enc_5 = 0 #@param {type:\"slider\", min:-10, max:10, step:0.1}\n",
        "img_pca_enc_6 = 0 #@param {type:\"slider\", min:-10, max:10, step:1}\n",
        "img_pca_enc_7 = 0 #@param {type:\"slider\", min:-10, max:10, step:0.1}\n",
        "img_pca_enc_8 = 0 #@param {type:\"slider\", min:-10, max:10, step:1}\n",
        "img_pca_enc_9 = 0 #@param {type:\"slider\", min:-10, max:10, step:0.1}\n",
        "img_pca_enc_10 = 0 #@param {type:\"slider\", min:-10, max:10, step:1}\n",
        "img_pca_enc_11 = 0 #@param {type:\"slider\", min:-10, max:10, step:0.1}\n",
        "\n",
        "img_pca_enc[0] = img_pca_enc_0\n",
        "img_pca_enc[1] = img_pca_enc_1\n",
        "img_pca_enc[2] = img_pca_enc_2\n",
        "img_pca_enc[3] = img_pca_enc_3\n",
        "img_pca_enc[4] = img_pca_enc_4\n",
        "img_pca_enc[5] = img_pca_enc_5\n",
        "img_pca_enc[6] = img_pca_enc_6\n",
        "img_pca_enc[7] = img_pca_enc_7\n",
        "img_pca_enc[8] = img_pca_enc_6\n",
        "img_pca_enc[9] = img_pca_enc_7\n",
        "img_pca_enc[10] = img_pca_enc_6\n",
        "img_pca_enc[11] = img_pca_enc_7\n",
        "\n",
        "img_enc = pca.inverse_transform(img_pca_enc.reshape(-1,300))\n",
        "img = decoder_e.predict(img_enc.reshape(-1,300))\n",
        "plt.imshow(img.reshape(64,64,3))"
      ],
      "execution_count": 43,
      "outputs": [
        {
          "output_type": "execute_result",
          "data": {
            "text/plain": [
              "<matplotlib.image.AxesImage at 0x7f3ffae32668>"
            ]
          },
          "metadata": {
            "tags": []
          },
          "execution_count": 43
        },
        {
          "output_type": "display_data",
          "data": {
            "image/png": "[encoded data removed]",
            "text/plain": [
              "<Figure size 432x288 with 1 Axes>"
            ]
          },
          "metadata": {
            "tags": [],
            "needs_background": "light"
          }
        }
      ]
    },
    {
      "cell_type": "code",
      "metadata": {
        "id": "LAj5-gw0DdHk",
        "colab": {
          "base_uri": "https://localhost:8080/",
          "height": 34
        },
        "outputId": "2b8c7300-30ae-4c5a-fdcf-beec4c337678"
      },
      "source": [
        "pca_enc.shape"
      ],
      "execution_count": null,
      "outputs": [
        {
          "output_type": "execute_result",
          "data": {
            "text/plain": [
              "(5696, 300)"
            ]
          },
          "metadata": {
            "tags": []
          },
          "execution_count": 17
        }
      ]
    }
  ]
}
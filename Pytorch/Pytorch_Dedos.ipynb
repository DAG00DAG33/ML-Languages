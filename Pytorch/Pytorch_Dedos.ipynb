{
  "nbformat": 4,
  "nbformat_minor": 0,
  "metadata": {
    "colab": {
      "name": "Pytorch Dedos",
      "provenance": [],
      "include_colab_link": true
    },
    "kernelspec": {
      "name": "python3",
      "display_name": "Python 3"
    },
    "accelerator": "GPU"
  },
  "cells": [
    {
      "cell_type": "markdown",
      "metadata": {
        "id": "view-in-github",
        "colab_type": "text"
      },
      "source": [
        "<a href=\"https://colab.research.google.com/github/DAG00DAG33/ML-Languages/blob/master/Pytorch/Pytorch_Dedos.ipynb\" target=\"_parent\"><img src=\"https://colab.research.google.com/assets/colab-badge.svg\" alt=\"Open In Colab\"/></a>"
      ]
    },
    {
      "cell_type": "code",
      "metadata": {
        "id": "V60dE1x9Zt-Q",
        "colab_type": "code",
        "colab": {}
      },
      "source": [
        "import torch #\n",
        "import torch.nn as nn #\n",
        "import torch.optim as optim #\n",
        "\n",
        "import numpy as np\n",
        "\n",
        "from PIL import Image #\n",
        "import matplotlib.pyplot as plt #\n",
        "\n",
        "import torchvision.transforms as transforms #\n",
        "import torchvision\n",
        "\n",
        "\n",
        "device = torch.device(\"cuda\" if torch.cuda.is_available() else \"cpu\")"
      ],
      "execution_count": 0,
      "outputs": []
    },
    {
      "cell_type": "code",
      "metadata": {
        "id": "4xEcunnfJld0",
        "colab_type": "code",
        "outputId": "1a0104ba-d03d-40ff-bd08-0c3651ae1e4f",
        "colab": {
          "base_uri": "https://localhost:8080/",
          "height": 122
        }
      },
      "source": [
        "from google.colab import drive\n",
        "drive.mount('/content/drive')"
      ],
      "execution_count": 2,
      "outputs": [
        {
          "output_type": "stream",
          "text": [
            "Go to this URL in a browser: https://accounts.google.com/o/oauth2/auth?client_id=947318989803-6bn6qk8qdgf4n4g3pfee6491hc0brc4i.apps.googleusercontent.com&redirect_uri=urn%3aietf%3awg%3aoauth%3a2.0%3aoob&response_type=code&scope=email%20https%3a%2f%2fwww.googleapis.com%2fauth%2fdocs.test%20https%3a%2f%2fwww.googleapis.com%2fauth%2fdrive%20https%3a%2f%2fwww.googleapis.com%2fauth%2fdrive.photos.readonly%20https%3a%2f%2fwww.googleapis.com%2fauth%2fpeopleapi.readonly\n",
            "\n",
            "Enter your authorization code:\n",
            "··········\n",
            "Mounted at /content/drive\n"
          ],
          "name": "stdout"
        }
      ]
    },
    {
      "cell_type": "code",
      "metadata": {
        "id": "6sCiGnejJUud",
        "colab_type": "code",
        "colab": {}
      },
      "source": [
        "import sys\n",
        "sys.path.insert(1, '/content/drive/My Drive/ML/Lenguajes')\n",
        "\n",
        "\n",
        "from herr import *"
      ],
      "execution_count": 0,
      "outputs": []
    },
    {
      "cell_type": "markdown",
      "metadata": {
        "id": "rqYbSr47L95x",
        "colab_type": "text"
      },
      "source": [
        "#Input data"
      ]
    },
    {
      "cell_type": "code",
      "metadata": {
        "id": "Zw3i5JcwKO8D",
        "colab_type": "code",
        "colab": {}
      },
      "source": [
        "DATA_PATH = '/content/drive/My Drive/ML/Lenguajes/datasets/'\n",
        "X_train, Y_train, X_test, Y_test = load_dataset(DATA_PATH + 'baseDeDatos_train.h5', DATA_PATH + 'baseDeDatos_test.h5')\n",
        "X_train = np.moveaxis(X_train, 3, 1)\n",
        "X_test = np.moveaxis(X_test, 3, 1)\n",
        "\n",
        "\n"
      ],
      "execution_count": 0,
      "outputs": []
    },
    {
      "cell_type": "code",
      "metadata": {
        "id": "SUnOBqTUvSWA",
        "colab_type": "code",
        "colab": {}
      },
      "source": [
        "BATCH_SIZE = 10"
      ],
      "execution_count": 0,
      "outputs": []
    },
    {
      "cell_type": "code",
      "metadata": {
        "id": "6fDGjweIdwYK",
        "colab_type": "code",
        "colab": {}
      },
      "source": [
        "transform = transforms.Compose(\n",
        "    [torchvision.transforms.RandomHorizontalFlip(p=0.5),\n",
        "     transforms.ToTensor()])\n",
        "    #transforms.Normalize((0.5, 0.5, 0.5), (0.5, 0.5, 0.5)\n",
        "    \n",
        "BATCH_SIZE = 100\n",
        "\n",
        "tensor_x_train = torch.stack([torch.Tensor(X_train[i]) for i in range(X_train.shape[0])]) # transform to torch tensors\n",
        "tensor_y_train = torch.stack([torch.Tensor(Y_train[i]) for i in range(Y_train.shape[0])])\n",
        "\n",
        "my_train_dataset = torch.utils.data.TensorDataset(tensor_x_train,tensor_y_train) # create your datset\n",
        "trainloader = torch.utils.data.DataLoader(my_train_dataset, batch_size=BATCH_SIZE, shuffle=True) # create your dataloader\n",
        "\n",
        "\n",
        "tensor_x_test = torch.stack([torch.Tensor(X_test[i]) for i in range(X_test.shape[0])]) # transform to torch tensors\n",
        "tensor_y_test = torch.stack([torch.Tensor(Y_test[i]) for i in range(Y_test.shape[0])])\n",
        "\n",
        "my_test_dataset = torch.utils.data.TensorDataset(tensor_x_test,tensor_y_test) # create your datset\n",
        "testloader = torch.utils.data.DataLoader(my_test_dataset, batch_size=BATCH_SIZE, shuffle=True) # create your dataloader"
      ],
      "execution_count": 0,
      "outputs": []
    },
    {
      "cell_type": "code",
      "metadata": {
        "id": "76NizHvOarrG",
        "colab_type": "code",
        "colab": {}
      },
      "source": [
        "dataiter = iter(trainloader)\n",
        "images, labels = dataiter.next()"
      ],
      "execution_count": 0,
      "outputs": []
    },
    {
      "cell_type": "code",
      "metadata": {
        "id": "jVTxU5PXcGq_",
        "colab_type": "code",
        "outputId": "30604b11-2145-42b3-9b9a-d4ef56668716",
        "colab": {
          "base_uri": "https://localhost:8080/",
          "height": 268
        }
      },
      "source": [
        "\n",
        "\n",
        "unloader = transforms.ToPILImage()  # reconvert into PIL image\n",
        "\n",
        "def imshow(tensor, title=None):\n",
        "    plt.figure()\n",
        "    image = tensor.cpu().clone()  # we clone the tensor to not do changes on it\n",
        "    if len(image.shape) == 4:\n",
        "      image = image.squeeze(0)      # remove the fake batch dimension\n",
        "    image = unloader(image)\n",
        "    plt.imshow(image)\n",
        "    if title is not None:\n",
        "        plt.title(title)\n",
        "\n",
        "\n",
        "\n",
        "imshow(images[0])"
      ],
      "execution_count": 12,
      "outputs": [
        {
          "output_type": "display_data",
          "data": {
            "image/png": "[encoded data removed]",
            "text/plain": [
              "<Figure size 432x288 with 1 Axes>"
            ]
          },
          "metadata": {
            "tags": []
          }
        }
      ]
    },
    {
      "cell_type": "markdown",
      "metadata": {
        "id": "w17Z-cNGMA24",
        "colab_type": "text"
      },
      "source": [
        "#Model"
      ]
    },
    {
      "cell_type": "code",
      "metadata": {
        "id": "0voweKzLhV3o",
        "colab_type": "code",
        "colab": {}
      },
      "source": [
        "class Flatten(nn.Module):\n",
        "    def forward(self, input):\n",
        "        return input.view(input.size(0), -1)"
      ],
      "execution_count": 0,
      "outputs": []
    },
    {
      "cell_type": "code",
      "metadata": {
        "id": "EjduJ2LAMgqS",
        "colab_type": "code",
        "colab": {}
      },
      "source": [
        "IN_SHAPE = (3,64,64)"
      ],
      "execution_count": 0,
      "outputs": []
    },
    {
      "cell_type": "code",
      "metadata": {
        "id": "NXMp25v0K_4c",
        "colab_type": "code",
        "outputId": "0c543c6f-6557-497a-d920-fb2cf5b99734",
        "colab": {
          "base_uri": "https://localhost:8080/",
          "height": 1000
        }
      },
      "source": [
        "class Net(nn.Module):\n",
        "    def __init__(self,  num_classes, dropout_prob=0.3):\n",
        "        super(Net, self).__init__()\n",
        "        self.pipe = nn.Sequential(\n",
        "            nn.Conv2d(in_channels=3, out_channels=8,\n",
        "                      kernel_size=3, stride=1, padding=1),\n",
        "            nn.Conv2d(in_channels=8, out_channels=16,\n",
        "                      kernel_size=3, stride=1, padding=1),\n",
        "            nn.MaxPool2d(2),\n",
        "\n",
        "\n",
        "            nn.Conv2d(in_channels=16, out_channels=16,\n",
        "                      kernel_size=3, stride=1, padding=1),\n",
        "            nn.Conv2d(in_channels=16, out_channels=32,\n",
        "                      kernel_size=3, stride=1, padding=1),\n",
        "            nn.MaxPool2d(2),\n",
        "\n",
        "            nn.Conv2d(in_channels=32, out_channels=32,\n",
        "                      kernel_size=3, stride=1, padding=1),\n",
        "            nn.Conv2d(in_channels=32, out_channels=32,\n",
        "                      kernel_size=3, stride=1, padding=1),\n",
        "            nn.MaxPool2d(2),\n",
        "\n",
        "            Flatten(),\n",
        "            nn.Linear(2048, num_classes),\n",
        "            nn.Softmax(dim=1)\n",
        "        )\n",
        "\n",
        "    def forward(self, x):\n",
        "        return self.pipe(x)\n",
        "\n",
        "\n",
        "net = Net(6).to(device)\n",
        "net(images.to(device))\n"
      ],
      "execution_count": 20,
      "outputs": [
        {
          "output_type": "execute_result",
          "data": {
            "text/plain": [
              "tensor([[0.1694, 0.1693, 0.1710, 0.1679, 0.1580, 0.1644],\n",
              "        [0.1694, 0.1700, 0.1704, 0.1688, 0.1581, 0.1633],\n",
              "        [0.1696, 0.1691, 0.1704, 0.1683, 0.1586, 0.1640],\n",
              "        [0.1694, 0.1700, 0.1705, 0.1685, 0.1581, 0.1635],\n",
              "        [0.1698, 0.1691, 0.1704, 0.1684, 0.1585, 0.1638],\n",
              "        [0.1693, 0.1697, 0.1707, 0.1683, 0.1582, 0.1638],\n",
              "        [0.1693, 0.1698, 0.1707, 0.1685, 0.1581, 0.1636],\n",
              "        [0.1696, 0.1698, 0.1702, 0.1687, 0.1579, 0.1638],\n",
              "        [0.1692, 0.1696, 0.1703, 0.1683, 0.1585, 0.1640],\n",
              "        [0.1694, 0.1699, 0.1706, 0.1684, 0.1582, 0.1635],\n",
              "        [0.1695, 0.1697, 0.1707, 0.1681, 0.1579, 0.1641],\n",
              "        [0.1694, 0.1694, 0.1706, 0.1682, 0.1583, 0.1641],\n",
              "        [0.1700, 0.1695, 0.1705, 0.1682, 0.1581, 0.1638],\n",
              "        [0.1694, 0.1699, 0.1705, 0.1685, 0.1581, 0.1636],\n",
              "        [0.1693, 0.1699, 0.1707, 0.1682, 0.1582, 0.1638],\n",
              "        [0.1692, 0.1698, 0.1709, 0.1678, 0.1581, 0.1643],\n",
              "        [0.1694, 0.1694, 0.1706, 0.1681, 0.1582, 0.1643],\n",
              "        [0.1695, 0.1698, 0.1705, 0.1685, 0.1581, 0.1636],\n",
              "        [0.1693, 0.1700, 0.1705, 0.1685, 0.1581, 0.1636],\n",
              "        [0.1697, 0.1695, 0.1707, 0.1682, 0.1581, 0.1639],\n",
              "        [0.1695, 0.1700, 0.1705, 0.1687, 0.1580, 0.1634],\n",
              "        [0.1698, 0.1695, 0.1703, 0.1684, 0.1580, 0.1640],\n",
              "        [0.1697, 0.1695, 0.1708, 0.1683, 0.1583, 0.1634],\n",
              "        [0.1693, 0.1699, 0.1706, 0.1684, 0.1581, 0.1637],\n",
              "        [0.1696, 0.1691, 0.1712, 0.1686, 0.1578, 0.1637],\n",
              "        [0.1692, 0.1697, 0.1710, 0.1679, 0.1580, 0.1641],\n",
              "        [0.1694, 0.1700, 0.1705, 0.1686, 0.1580, 0.1635],\n",
              "        [0.1693, 0.1699, 0.1706, 0.1686, 0.1581, 0.1635],\n",
              "        [0.1696, 0.1698, 0.1700, 0.1690, 0.1584, 0.1632],\n",
              "        [0.1694, 0.1700, 0.1706, 0.1686, 0.1581, 0.1634],\n",
              "        [0.1697, 0.1695, 0.1701, 0.1679, 0.1587, 0.1641],\n",
              "        [0.1694, 0.1695, 0.1708, 0.1680, 0.1581, 0.1642],\n",
              "        [0.1694, 0.1699, 0.1707, 0.1685, 0.1581, 0.1635],\n",
              "        [0.1697, 0.1692, 0.1707, 0.1684, 0.1584, 0.1636],\n",
              "        [0.1693, 0.1692, 0.1706, 0.1685, 0.1581, 0.1642],\n",
              "        [0.1693, 0.1694, 0.1707, 0.1681, 0.1581, 0.1644],\n",
              "        [0.1690, 0.1696, 0.1705, 0.1681, 0.1584, 0.1644],\n",
              "        [0.1694, 0.1698, 0.1703, 0.1681, 0.1583, 0.1641],\n",
              "        [0.1696, 0.1692, 0.1702, 0.1684, 0.1583, 0.1643],\n",
              "        [0.1694, 0.1697, 0.1710, 0.1677, 0.1581, 0.1641],\n",
              "        [0.1694, 0.1697, 0.1707, 0.1683, 0.1580, 0.1638],\n",
              "        [0.1695, 0.1691, 0.1705, 0.1681, 0.1584, 0.1643],\n",
              "        [0.1694, 0.1696, 0.1707, 0.1680, 0.1582, 0.1642],\n",
              "        [0.1693, 0.1701, 0.1704, 0.1687, 0.1581, 0.1635],\n",
              "        [0.1696, 0.1694, 0.1708, 0.1681, 0.1578, 0.1643],\n",
              "        [0.1696, 0.1695, 0.1702, 0.1686, 0.1582, 0.1640],\n",
              "        [0.1696, 0.1698, 0.1706, 0.1682, 0.1582, 0.1636],\n",
              "        [0.1692, 0.1696, 0.1709, 0.1685, 0.1581, 0.1638],\n",
              "        [0.1695, 0.1695, 0.1708, 0.1683, 0.1579, 0.1641],\n",
              "        [0.1693, 0.1701, 0.1700, 0.1681, 0.1582, 0.1642],\n",
              "        [0.1695, 0.1694, 0.1705, 0.1682, 0.1584, 0.1640],\n",
              "        [0.1693, 0.1694, 0.1711, 0.1682, 0.1582, 0.1639],\n",
              "        [0.1694, 0.1697, 0.1705, 0.1680, 0.1583, 0.1642],\n",
              "        [0.1693, 0.1699, 0.1705, 0.1684, 0.1582, 0.1637],\n",
              "        [0.1692, 0.1695, 0.1705, 0.1680, 0.1585, 0.1643],\n",
              "        [0.1693, 0.1697, 0.1705, 0.1682, 0.1582, 0.1641],\n",
              "        [0.1697, 0.1691, 0.1706, 0.1686, 0.1585, 0.1635],\n",
              "        [0.1694, 0.1699, 0.1706, 0.1685, 0.1580, 0.1637],\n",
              "        [0.1694, 0.1698, 0.1706, 0.1684, 0.1579, 0.1638],\n",
              "        [0.1693, 0.1700, 0.1701, 0.1684, 0.1582, 0.1640],\n",
              "        [0.1695, 0.1699, 0.1704, 0.1684, 0.1580, 0.1637],\n",
              "        [0.1694, 0.1697, 0.1702, 0.1684, 0.1584, 0.1640],\n",
              "        [0.1692, 0.1704, 0.1702, 0.1680, 0.1585, 0.1637],\n",
              "        [0.1692, 0.1698, 0.1707, 0.1680, 0.1579, 0.1643],\n",
              "        [0.1698, 0.1694, 0.1705, 0.1681, 0.1582, 0.1641],\n",
              "        [0.1696, 0.1693, 0.1707, 0.1682, 0.1587, 0.1636],\n",
              "        [0.1694, 0.1693, 0.1705, 0.1683, 0.1582, 0.1643],\n",
              "        [0.1695, 0.1698, 0.1704, 0.1686, 0.1581, 0.1635],\n",
              "        [0.1690, 0.1695, 0.1706, 0.1679, 0.1587, 0.1643],\n",
              "        [0.1694, 0.1699, 0.1706, 0.1684, 0.1581, 0.1636],\n",
              "        [0.1695, 0.1699, 0.1705, 0.1686, 0.1581, 0.1635],\n",
              "        [0.1696, 0.1692, 0.1709, 0.1683, 0.1583, 0.1638],\n",
              "        [0.1694, 0.1698, 0.1707, 0.1683, 0.1578, 0.1640],\n",
              "        [0.1697, 0.1695, 0.1705, 0.1680, 0.1581, 0.1641],\n",
              "        [0.1694, 0.1697, 0.1705, 0.1686, 0.1583, 0.1636],\n",
              "        [0.1693, 0.1696, 0.1708, 0.1679, 0.1582, 0.1642],\n",
              "        [0.1695, 0.1694, 0.1706, 0.1683, 0.1582, 0.1640],\n",
              "        [0.1694, 0.1697, 0.1706, 0.1684, 0.1581, 0.1639],\n",
              "        [0.1694, 0.1696, 0.1709, 0.1683, 0.1582, 0.1636],\n",
              "        [0.1694, 0.1697, 0.1709, 0.1679, 0.1583, 0.1639],\n",
              "        [0.1695, 0.1698, 0.1707, 0.1683, 0.1579, 0.1639],\n",
              "        [0.1692, 0.1698, 0.1708, 0.1684, 0.1581, 0.1637],\n",
              "        [0.1695, 0.1698, 0.1707, 0.1683, 0.1580, 0.1638],\n",
              "        [0.1694, 0.1699, 0.1706, 0.1684, 0.1579, 0.1638],\n",
              "        [0.1692, 0.1695, 0.1706, 0.1683, 0.1582, 0.1642],\n",
              "        [0.1695, 0.1696, 0.1708, 0.1680, 0.1582, 0.1639],\n",
              "        [0.1694, 0.1698, 0.1705, 0.1685, 0.1582, 0.1637],\n",
              "        [0.1693, 0.1696, 0.1706, 0.1685, 0.1581, 0.1639],\n",
              "        [0.1694, 0.1698, 0.1703, 0.1683, 0.1583, 0.1639],\n",
              "        [0.1693, 0.1695, 0.1706, 0.1683, 0.1582, 0.1640],\n",
              "        [0.1698, 0.1691, 0.1705, 0.1683, 0.1582, 0.1641],\n",
              "        [0.1694, 0.1700, 0.1706, 0.1684, 0.1579, 0.1637],\n",
              "        [0.1693, 0.1698, 0.1702, 0.1684, 0.1583, 0.1640],\n",
              "        [0.1696, 0.1696, 0.1705, 0.1685, 0.1582, 0.1636],\n",
              "        [0.1695, 0.1696, 0.1707, 0.1683, 0.1581, 0.1638],\n",
              "        [0.1693, 0.1700, 0.1706, 0.1684, 0.1580, 0.1637],\n",
              "        [0.1693, 0.1692, 0.1710, 0.1679, 0.1576, 0.1649],\n",
              "        [0.1694, 0.1690, 0.1710, 0.1684, 0.1580, 0.1643],\n",
              "        [0.1694, 0.1698, 0.1710, 0.1686, 0.1583, 0.1629],\n",
              "        [0.1694, 0.1698, 0.1708, 0.1683, 0.1580, 0.1638]], device='cuda:0',\n",
              "       grad_fn=<SoftmaxBackward>)"
            ]
          },
          "metadata": {
            "tags": []
          },
          "execution_count": 20
        }
      ]
    },
    {
      "cell_type": "markdown",
      "metadata": {
        "id": "hYNRimSdMDP9",
        "colab_type": "text"
      },
      "source": [
        "#Train"
      ]
    },
    {
      "cell_type": "code",
      "metadata": {
        "id": "RyI4hakkL49K",
        "colab_type": "code",
        "outputId": "37d6a0c4-76de-4d1c-a9c3-0d84a8d768d2",
        "colab": {
          "base_uri": "https://localhost:8080/",
          "height": 867
        }
      },
      "source": [
        "#lossFunc = nn.CrossEntropyLoss()\n",
        "lossFunc = nn.BCELoss()\n",
        "#optimizer = optim.SGD(net.parameters(), lr=0.001, momentum=0.9)\n",
        "optimizer = torch.optim.Adam(net.parameters(), lr=3e-4)\n",
        "\n",
        "\n",
        "def train(model, trainloader, optimizer, epochs, device):\n",
        "    #model.train()\n",
        "    n=3\n",
        "    running_loss = 0.0\n",
        "    losses = []\n",
        "    for epoch in range(epochs):\n",
        "      for i, data in enumerate(trainloader, 0):\n",
        "          # get the inputs\n",
        "          images=data[0].to(device)\n",
        "          labels=data[1].to(device)\n",
        "\n",
        "          #labels = labels.to(device=device, dtype=torch.int64)\n",
        "          optimizer.zero_grad()\n",
        "\n",
        "          outputs = model(images)\n",
        "          loss = lossFunc(outputs, labels)\n",
        "\n",
        "          loss.backward()\n",
        "\n",
        "          optimizer.step()\n",
        "\n",
        "          running_loss += loss.item()\n",
        "          if i % n == n-1: \n",
        "              print('[%d, %5d] loss: %.3f' %\n",
        "                    (epoch + 1, (i + 1)*BATCH_SIZE, running_loss / BATCH_SIZE*n))\n",
        "              losses.append(running_loss / BATCH_SIZE*n)\n",
        "              running_loss = 0.0\n",
        "    return losses\n",
        "\n",
        "\n",
        "losses = train(net,trainloader, optimizer, 10, device)"
      ],
      "execution_count": 32,
      "outputs": [
        {
          "output_type": "stream",
          "text": [
            "[1,   300] loss: 0.023\n",
            "[1,   600] loss: 0.023\n",
            "[1,   900] loss: 0.019\n",
            "[1,  1200] loss: 0.011\n",
            "[1,  1500] loss: 0.015\n",
            "[2,   300] loss: 0.019\n",
            "[2,   600] loss: 0.013\n",
            "[2,   900] loss: 0.011\n",
            "[2,  1200] loss: 0.013\n",
            "[2,  1500] loss: 0.012\n",
            "[3,   300] loss: 0.016\n",
            "[3,   600] loss: 0.013\n",
            "[3,   900] loss: 0.013\n",
            "[3,  1200] loss: 0.011\n",
            "[3,  1500] loss: 0.012\n",
            "[4,   300] loss: 0.015\n",
            "[4,   600] loss: 0.012\n",
            "[4,   900] loss: 0.011\n",
            "[4,  1200] loss: 0.011\n",
            "[4,  1500] loss: 0.013\n",
            "[5,   300] loss: 0.016\n",
            "[5,   600] loss: 0.011\n",
            "[5,   900] loss: 0.010\n",
            "[5,  1200] loss: 0.012\n",
            "[5,  1500] loss: 0.011\n",
            "[6,   300] loss: 0.014\n",
            "[6,   600] loss: 0.011\n",
            "[6,   900] loss: 0.010\n",
            "[6,  1200] loss: 0.010\n",
            "[6,  1500] loss: 0.012\n",
            "[7,   300] loss: 0.012\n",
            "[7,   600] loss: 0.012\n",
            "[7,   900] loss: 0.009\n",
            "[7,  1200] loss: 0.009\n",
            "[7,  1500] loss: 0.011\n",
            "[8,   300] loss: 0.017\n",
            "[8,   600] loss: 0.011\n",
            "[8,   900] loss: 0.010\n",
            "[8,  1200] loss: 0.010\n",
            "[8,  1500] loss: 0.009\n",
            "[9,   300] loss: 0.014\n",
            "[9,   600] loss: 0.011\n",
            "[9,   900] loss: 0.010\n",
            "[9,  1200] loss: 0.009\n",
            "[9,  1500] loss: 0.009\n",
            "[10,   300] loss: 0.012\n",
            "[10,   600] loss: 0.009\n",
            "[10,   900] loss: 0.009\n",
            "[10,  1200] loss: 0.010\n",
            "[10,  1500] loss: 0.009\n"
          ],
          "name": "stdout"
        }
      ]
    },
    {
      "cell_type": "code",
      "metadata": {
        "id": "j6pZe9DYZAtf",
        "colab_type": "code",
        "outputId": "02ec1447-7eec-4889-8989-077c4af42a7e",
        "colab": {
          "base_uri": "https://localhost:8080/",
          "height": 286
        }
      },
      "source": [
        "plt.plot(losses)"
      ],
      "execution_count": 33,
      "outputs": [
        {
          "output_type": "execute_result",
          "data": {
            "text/plain": [
              "[<matplotlib.lines.Line2D at 0x7fb995987438>]"
            ]
          },
          "metadata": {
            "tags": []
          },
          "execution_count": 33
        },
        {
          "output_type": "display_data",
          "data": {
            "image/png": "[encoded data removed]",
            "text/plain": [
              "<Figure size 432x288 with 1 Axes>"
            ]
          },
          "metadata": {
            "tags": []
          }
        }
      ]
    },
    {
      "cell_type": "markdown",
      "metadata": {
        "id": "B1MaJWdPqxlO",
        "colab_type": "text"
      },
      "source": [
        "#Test"
      ]
    },
    {
      "cell_type": "code",
      "metadata": {
        "id": "ugadgrIqqy1V",
        "colab_type": "code",
        "outputId": "51e2b7aa-00d6-48c0-cac5-98eee6936f49",
        "colab": {
          "base_uri": "https://localhost:8080/",
          "height": 51
        }
      },
      "source": [
        "def test(model, testloader, device, display=False):\n",
        "  model.eval()\n",
        "  correct = 0\n",
        "  total = 0\n",
        "  with torch.no_grad():\n",
        "      for data in testloader:\n",
        "          images, labels = data\n",
        "          outputs = model(images.to(device))\n",
        "          _, predicted = torch.max(outputs.data, 1)\n",
        "          _, correctLabel = torch.max(labels.to(device), 1)\n",
        "          total += labels.size(0)\n",
        "          correct += (predicted == correctLabel).sum().item()\n",
        "  if display:\n",
        "    print('Accuracy of the network on the test images: %d %%' % (\n",
        "        100 * correct / total))\n",
        "  return correct/total\n",
        "  \n",
        "test(net, testloader, device, display=True)"
      ],
      "execution_count": 36,
      "outputs": [
        {
          "output_type": "stream",
          "text": [
            "Accuracy of the network on the test images: 77 %\n"
          ],
          "name": "stdout"
        },
        {
          "output_type": "execute_result",
          "data": {
            "text/plain": [
              "0.7740259740259741"
            ]
          },
          "metadata": {
            "tags": []
          },
          "execution_count": 36
        }
      ]
    }
  ]
}
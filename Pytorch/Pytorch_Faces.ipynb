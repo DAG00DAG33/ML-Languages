{
  "nbformat": 4,
  "nbformat_minor": 0,
  "metadata": {
    "colab": {
      "name": "Pytorch Faces.ipynb",
      "provenance": [],
      "collapsed_sections": [],
      "include_colab_link": true
    },
    "kernelspec": {
      "name": "python3",
      "display_name": "Python 3"
    },
    "accelerator": "GPU"
  },
  "cells": [
    {
      "cell_type": "markdown",
      "metadata": {
        "id": "view-in-github",
        "colab_type": "text"
      },
      "source": [
        "<a href=\"https://colab.research.google.com/github/DAG00DAG33/ML-Languages/blob/master/Pytorch/Pytorch_Faces.ipynb\" target=\"_parent\"><img src=\"https://colab.research.google.com/assets/colab-badge.svg\" alt=\"Open In Colab\"/></a>"
      ]
    },
    {
      "cell_type": "code",
      "metadata": {
        "id": "1p97oMzWf5w5",
        "colab_type": "code",
        "colab": {}
      },
      "source": [
        "import torch #\n",
        "import torch.nn as nn #\n",
        "import torch.optim as optim #\n",
        "import torch.nn.functional as F\n",
        "\n",
        "import numpy as np\n",
        "\n",
        "from PIL import Image #\n",
        "import matplotlib.pyplot as plt #\n",
        "\n",
        "import torchvision.transforms as transforms #\n",
        "import torchvision\n",
        "\n",
        "\n",
        "device = torch.device(\"cuda\" if torch.cuda.is_available() else \"cpu\")"
      ],
      "execution_count": 0,
      "outputs": []
    },
    {
      "cell_type": "code",
      "metadata": {
        "id": "rHF5S3P4gADe",
        "colab_type": "code",
        "outputId": "bd0c9c48-6f7c-4654-c200-dc75836b69e5",
        "colab": {
          "base_uri": "https://localhost:8080/",
          "height": 34
        }
      },
      "source": [
        "from google.colab import drive\n",
        "drive.mount('/content/drive')"
      ],
      "execution_count": 49,
      "outputs": [
        {
          "output_type": "stream",
          "text": [
            "Drive already mounted at /content/drive; to attempt to forcibly remount, call drive.mount(\"/content/drive\", force_remount=True).\n"
          ],
          "name": "stdout"
        }
      ]
    },
    {
      "cell_type": "markdown",
      "metadata": {
        "id": "oFZ9RnucjhAM",
        "colab_type": "text"
      },
      "source": [
        "#Import data"
      ]
    },
    {
      "cell_type": "code",
      "metadata": {
        "id": "-dQg00h0gJHl",
        "colab_type": "code",
        "colab": {}
      },
      "source": [
        "import pickle\n",
        "import h5py\n",
        "\n",
        "DATA_PATH = '/content/drive/My Drive/ML/Lenguajes/datasets/'\n",
        "with open(DATA_PATH + \"Names.txt\", \"rb\") as fp:   # Unpickling\n",
        "  Names = pickle.load(fp)\n",
        "  \n",
        "  \n",
        "dataset = h5py.File(DATA_PATH + \"facesDatabase.h5\", \"r\")\n",
        "X_orig = np.array(dataset[\"X\"][:]) \n",
        "X = X_orig/255.\n",
        "X = np.moveaxis(X, 3, 1)"
      ],
      "execution_count": 0,
      "outputs": []
    },
    {
      "cell_type": "code",
      "metadata": {
        "id": "fl-twBPnhmRp",
        "colab_type": "code",
        "colab": {}
      },
      "source": [
        "BATCH_SIZE = 100"
      ],
      "execution_count": 0,
      "outputs": []
    },
    {
      "cell_type": "code",
      "metadata": {
        "id": "xxWbNqoyhmyA",
        "colab_type": "code",
        "colab": {}
      },
      "source": [
        "transform = transforms.Compose(\n",
        "    [torchvision.transforms.RandomHorizontalFlip(p=0.5),\n",
        "     transforms.ToTensor()])\n",
        "    #transforms.Normalize((0.5, 0.5, 0.5), (0.5, 0.5, 0.5)\n",
        "\n",
        "\n",
        "tensor_x = torch.stack([torch.Tensor(X[i]) for i in range(X.shape[0])])\n",
        "\n",
        "my_dataset = torch.utils.data.TensorDataset(tensor_x) # create your datset\n",
        "trainloader = torch.utils.data.DataLoader(my_dataset, batch_size=BATCH_SIZE, shuffle=True) # create your dataloader"
      ],
      "execution_count": 0,
      "outputs": []
    },
    {
      "cell_type": "code",
      "metadata": {
        "id": "bdJqqTqsiiVb",
        "colab_type": "code",
        "colab": {}
      },
      "source": [
        "dataiter = iter(trainloader)\n",
        "images = dataiter.next()[0]"
      ],
      "execution_count": 0,
      "outputs": []
    },
    {
      "cell_type": "code",
      "metadata": {
        "id": "zNuAGWUwina9",
        "colab_type": "code",
        "outputId": "7b1a2992-ec75-4422-848a-32c44d9282bd",
        "colab": {
          "base_uri": "https://localhost:8080/",
          "height": 268
        }
      },
      "source": [
        "unloader = transforms.ToPILImage()  # reconvert into PIL image\n",
        "\n",
        "def imshow(tensor, title=None):\n",
        "    plt.figure()\n",
        "    image = tensor.cpu().clone()  # we clone the tensor to not do changes on it\n",
        "    if len(image.shape) == 4:\n",
        "      image = image.squeeze(0)      # remove the fake batch dimension\n",
        "    image = unloader(image)\n",
        "    plt.imshow(image)\n",
        "    if title is not None:\n",
        "        plt.title(title)\n",
        "\n",
        "\n",
        "\n",
        "imshow(images[0])"
      ],
      "execution_count": 54,
      "outputs": [
        {
          "output_type": "display_data",
          "data": {
            "image/png": "[encoded data removed]",
            "text/plain": [
              "<Figure size 432x288 with 1 Axes>"
            ]
          },
          "metadata": {
            "tags": []
          }
        }
      ]
    },
    {
      "cell_type": "markdown",
      "metadata": {
        "id": "Y4T7YnAnjsvK",
        "colab_type": "text"
      },
      "source": [
        "#Model"
      ]
    },
    {
      "cell_type": "code",
      "metadata": {
        "id": "D0JFETe-nT1T",
        "colab_type": "code",
        "colab": {}
      },
      "source": [
        "IN_SHAPE = (3,64,64)"
      ],
      "execution_count": 0,
      "outputs": []
    },
    {
      "cell_type": "code",
      "metadata": {
        "id": "RSbb36RMoWGm",
        "colab_type": "code",
        "colab": {}
      },
      "source": [
        "class Flatten(nn.Module):\n",
        "    def forward(self, input):\n",
        "        return input.view(input.size(0), -1)"
      ],
      "execution_count": 0,
      "outputs": []
    },
    {
      "cell_type": "code",
      "metadata": {
        "id": "E-SverFLjuq7",
        "colab_type": "code",
        "outputId": "d9aa570b-1230-4e0d-ddc3-274428b3e2b1",
        "colab": {
          "base_uri": "https://localhost:8080/",
          "height": 153
        }
      },
      "source": [
        "class Encoder(nn.Module):\n",
        "    def __init__(self, input_shape, num_classes, dropout_prob=0.3):\n",
        "        super(Encoder, self).__init__()\n",
        "        self.pipe = nn.Sequential(\n",
        "            nn.BatchNorm2d(3),\n",
        "            nn.Conv2d(in_channels=3, out_channels=120,\n",
        "                      kernel_size=8, stride=1, padding=4),\n",
        "            nn.ReLU(),\n",
        "            nn.MaxPool2d(2),\n",
        "            nn.Conv2d(in_channels=120, out_channels=160,\n",
        "                      kernel_size=3, stride=1, padding=1),\n",
        "            nn.ReLU(),\n",
        "            nn.MaxPool2d(2),\n",
        "            nn.Conv2d(in_channels=160, out_channels=200,\n",
        "                      kernel_size=3, stride=1, padding=1),\n",
        "            nn.ReLU(),\n",
        "            nn.MaxPool2d(2),\n",
        "            nn.Conv2d(in_channels=200, out_channels=240,\n",
        "                      kernel_size=3, stride=1, padding=1),\n",
        "            nn.ReLU(),\n",
        "            nn.MaxPool2d(2),\n",
        "            nn.Conv2d(in_channels=240, out_channels=240,\n",
        "                      kernel_size=3, stride=1, padding=1),\n",
        "            nn.ReLU(),\n",
        "            Flatten(),\n",
        "            nn.BatchNorm1d(3840),\n",
        "            nn.Linear(3840, 300),\n",
        "            nn.Softmax(dim=1)\n",
        "        )\n",
        "\n",
        "    def forward(self, x):\n",
        "        return self.pipe(x)\n",
        "\n",
        "\n",
        "encoder = Encoder(IN_SHAPE, 6).to(device)\n",
        "encoder(images.to(device))"
      ],
      "execution_count": 57,
      "outputs": [
        {
          "output_type": "execute_result",
          "data": {
            "text/plain": [
              "tensor([[0.0065, 0.0022, 0.0015,  ..., 0.0037, 0.0036, 0.0027],\n",
              "        [0.0020, 0.0038, 0.0021,  ..., 0.0026, 0.0032, 0.0023],\n",
              "        [0.0061, 0.0016, 0.0030,  ..., 0.0029, 0.0009, 0.0024],\n",
              "        ...,\n",
              "        [0.0021, 0.0043, 0.0025,  ..., 0.0008, 0.0025, 0.0024],\n",
              "        [0.0020, 0.0045, 0.0068,  ..., 0.0024, 0.0029, 0.0047],\n",
              "        [0.0027, 0.0036, 0.0035,  ..., 0.0024, 0.0034, 0.0032]],\n",
              "       device='cuda:0', grad_fn=<SoftmaxBackward>)"
            ]
          },
          "metadata": {
            "tags": []
          },
          "execution_count": 57
        }
      ]
    },
    {
      "cell_type": "code",
      "metadata": {
        "id": "CjfDNyycZO7C",
        "colab_type": "code",
        "outputId": "dfafc795-23a0-4e06-b875-f88df00a3e23",
        "colab": {
          "base_uri": "https://localhost:8080/",
          "height": 561
        }
      },
      "source": [
        "from torchsummary  import summary\n",
        "summary(encoder, (3,64,64))"
      ],
      "execution_count": 58,
      "outputs": [
        {
          "output_type": "stream",
          "text": [
            "----------------------------------------------------------------\n",
            "        Layer (type)               Output Shape         Param #\n",
            "================================================================\n",
            "       BatchNorm2d-1            [-1, 3, 64, 64]               6\n",
            "            Conv2d-2          [-1, 120, 65, 65]          23,160\n",
            "              ReLU-3          [-1, 120, 65, 65]               0\n",
            "         MaxPool2d-4          [-1, 120, 32, 32]               0\n",
            "            Conv2d-5          [-1, 160, 32, 32]         172,960\n",
            "              ReLU-6          [-1, 160, 32, 32]               0\n",
            "         MaxPool2d-7          [-1, 160, 16, 16]               0\n",
            "            Conv2d-8          [-1, 200, 16, 16]         288,200\n",
            "              ReLU-9          [-1, 200, 16, 16]               0\n",
            "        MaxPool2d-10            [-1, 200, 8, 8]               0\n",
            "           Conv2d-11            [-1, 240, 8, 8]         432,240\n",
            "             ReLU-12            [-1, 240, 8, 8]               0\n",
            "        MaxPool2d-13            [-1, 240, 4, 4]               0\n",
            "           Conv2d-14            [-1, 240, 4, 4]         518,640\n",
            "             ReLU-15            [-1, 240, 4, 4]               0\n",
            "          Flatten-16                 [-1, 3840]               0\n",
            "      BatchNorm1d-17                 [-1, 3840]           7,680\n",
            "           Linear-18                  [-1, 300]       1,152,300\n",
            "          Softmax-19                  [-1, 300]               0\n",
            "================================================================\n",
            "Total params: 2,595,186\n",
            "Trainable params: 2,595,186\n",
            "Non-trainable params: 0\n",
            "----------------------------------------------------------------\n",
            "Input size (MB): 0.05\n",
            "Forward/backward pass size (MB): 12.84\n",
            "Params size (MB): 9.90\n",
            "Estimated Total Size (MB): 22.79\n",
            "----------------------------------------------------------------\n"
          ],
          "name": "stdout"
        }
      ]
    },
    {
      "cell_type": "code",
      "metadata": {
        "id": "f-zJT6rjpKKr",
        "colab_type": "code",
        "colab": {}
      },
      "source": [
        "class Reshape(nn.Module):\n",
        "    def __init__(self, *args):\n",
        "        super(Reshape, self).__init__()\n",
        "        self.shape = args\n",
        "\n",
        "    def forward(self, x):\n",
        "        return x.view(self.shape)\n"
      ],
      "execution_count": 0,
      "outputs": []
    },
    {
      "cell_type": "code",
      "metadata": {
        "id": "oicdAPpCopeM",
        "colab_type": "code",
        "outputId": "e1f97f23-12a9-4517-d733-b9c4cef16adb",
        "colab": {
          "base_uri": "https://localhost:8080/",
          "height": 88
        }
      },
      "source": [
        "class Decoder(nn.Module):\n",
        "    def __init__(self):\n",
        "        super(Decoder, self).__init__()\n",
        "        self.pipe = nn.Sequential(\n",
        "            nn.Linear(300, 3840),\n",
        "            Reshape(-1,240,4,4),\n",
        "            nn.Conv2d(in_channels=240, out_channels=240,\n",
        "                      kernel_size=9, stride=1, padding=4),\n",
        "            nn.BatchNorm2d(240),\n",
        "            nn.ReLU(),\n",
        "            nn.Upsample(scale_factor=2, mode='bilinear'),\n",
        "            nn.Conv2d(in_channels=240, out_channels=240,\n",
        "                      kernel_size=15, stride=1, padding=7),\n",
        "            nn.ReLU(),\n",
        "            nn.Upsample(scale_factor=2, mode='bilinear'),\n",
        "            nn.Conv2d(in_channels=240, out_channels=200,\n",
        "                      kernel_size=15, stride=1, padding=7),\n",
        "            nn.ReLU(),\n",
        "            nn.Upsample(scale_factor=2, mode='bilinear'),\n",
        "            nn.Conv2d(in_channels=200, out_channels=160,\n",
        "                      kernel_size=15, stride=1, padding=7),\n",
        "            nn.ReLU(),\n",
        "            nn.Upsample(scale_factor=2, mode='bilinear'),\n",
        "            nn.Conv2d(in_channels=160, out_channels=120,\n",
        "                      kernel_size=15, stride=1, padding=7),\n",
        "            nn.ReLU(),\n",
        "            nn.BatchNorm2d(120),\n",
        "            nn.Conv2d(in_channels=120, out_channels=3,\n",
        "                      kernel_size=9, stride=1, padding=4),\n",
        "            nn.Sigmoid(),\n",
        "        )\n",
        "\n",
        "    def forward(self, x):\n",
        "        return self.pipe(x)\n",
        "\n",
        "\n",
        "decoder = Decoder().to(device)\n",
        "pre = decoder(encoder(images.to(device)))\n",
        "pre.shape"
      ],
      "execution_count": 60,
      "outputs": [
        {
          "output_type": "stream",
          "text": [
            "/usr/local/lib/python3.6/dist-packages/torch/nn/functional.py:2494: UserWarning: Default upsampling behavior when mode=bilinear is changed to align_corners=False since 0.4.0. Please specify align_corners=True if the old behavior is desired. See the documentation of nn.Upsample for details.\n",
            "  \"See the documentation of nn.Upsample for details.\".format(mode))\n"
          ],
          "name": "stderr"
        },
        {
          "output_type": "execute_result",
          "data": {
            "text/plain": [
              "torch.Size([100, 3, 64, 64])"
            ]
          },
          "metadata": {
            "tags": []
          },
          "execution_count": 60
        }
      ]
    },
    {
      "cell_type": "code",
      "metadata": {
        "id": "RgmeZD673aYa",
        "colab_type": "code",
        "outputId": "8c76a0a5-c3ad-45a6-cea1-425a007ce6da",
        "colab": {
          "base_uri": "https://localhost:8080/",
          "height": 632
        }
      },
      "source": [
        "from torchsummary  import summary\n",
        "summary(decoder, (300,))"
      ],
      "execution_count": 61,
      "outputs": [
        {
          "output_type": "stream",
          "text": [
            "----------------------------------------------------------------\n",
            "        Layer (type)               Output Shape         Param #\n",
            "================================================================\n",
            "            Linear-1                 [-1, 3840]       1,155,840\n",
            "           Reshape-2            [-1, 240, 4, 4]               0\n",
            "            Conv2d-3            [-1, 240, 4, 4]       4,665,840\n",
            "       BatchNorm2d-4            [-1, 240, 4, 4]             480\n",
            "              ReLU-5            [-1, 240, 4, 4]               0\n",
            "          Upsample-6            [-1, 240, 8, 8]               0\n",
            "            Conv2d-7            [-1, 240, 8, 8]      12,960,240\n",
            "              ReLU-8            [-1, 240, 8, 8]               0\n",
            "          Upsample-9          [-1, 240, 16, 16]               0\n",
            "           Conv2d-10          [-1, 200, 16, 16]      10,800,200\n",
            "             ReLU-11          [-1, 200, 16, 16]               0\n",
            "         Upsample-12          [-1, 200, 32, 32]               0\n",
            "           Conv2d-13          [-1, 160, 32, 32]       7,200,160\n",
            "             ReLU-14          [-1, 160, 32, 32]               0\n",
            "         Upsample-15          [-1, 160, 64, 64]               0\n",
            "           Conv2d-16          [-1, 120, 64, 64]       4,320,120\n",
            "             ReLU-17          [-1, 120, 64, 64]               0\n",
            "      BatchNorm2d-18          [-1, 120, 64, 64]             240\n",
            "           Conv2d-19            [-1, 3, 64, 64]          29,163\n",
            "          Sigmoid-20            [-1, 3, 64, 64]               0\n",
            "================================================================\n",
            "Total params: 41,132,283\n",
            "Trainable params: 41,132,283\n",
            "Non-trainable params: 0\n",
            "----------------------------------------------------------------\n",
            "Input size (MB): 0.00\n",
            "Forward/backward pass size (MB): 22.25\n",
            "Params size (MB): 156.91\n",
            "Estimated Total Size (MB): 179.16\n",
            "----------------------------------------------------------------\n"
          ],
          "name": "stdout"
        },
        {
          "output_type": "stream",
          "text": [
            "/usr/local/lib/python3.6/dist-packages/torch/nn/functional.py:2494: UserWarning: Default upsampling behavior when mode=bilinear is changed to align_corners=False since 0.4.0. Please specify align_corners=True if the old behavior is desired. See the documentation of nn.Upsample for details.\n",
            "  \"See the documentation of nn.Upsample for details.\".format(mode))\n"
          ],
          "name": "stderr"
        }
      ]
    },
    {
      "cell_type": "markdown",
      "metadata": {
        "id": "irQ7mijP018u",
        "colab_type": "text"
      },
      "source": [
        "#Load model"
      ]
    },
    {
      "cell_type": "code",
      "metadata": {
        "id": "ImhFJzIo01Zq",
        "colab_type": "code",
        "outputId": "c921d737-e791-421b-c866-9d45fc6e7f63",
        "colab": {
          "base_uri": "https://localhost:8080/",
          "height": 350
        }
      },
      "source": [
        "CHK_PATH = '/content/drive/My Drive/ML/Lenguajes/Pytorch/checkpoints/'\n",
        "cuda = torch.cuda.is_available()\n",
        "if cuda:\n",
        "    checkpoint = torch.load(CHK_PATH + 'FacesCheckpoint.pth.tar')\n",
        "else:\n",
        "    # Load GPU model on CPU\n",
        "    checkpoint = torch.load(resume_weights,\n",
        "                            map_location=lambda storage,\n",
        "                            loc: storage)\n",
        "start_epoch = checkpoint['epoch']\n",
        "best_epochLoss = checkpoint['best_epochLoss']\n",
        "encoder.load_state_dict(checkpoint['encoder_dict'])\n",
        "decoder.load_state_dict(checkpoint['decoder_dict'])\n",
        "losses = checkpoint['losses']\n",
        "print(\"=> loaded checkpoint '{}' (trained for {} epochs)\".format(\"a\", checkpoint['epoch']))"
      ],
      "execution_count": 70,
      "outputs": [
        {
          "output_type": "error",
          "ename": "FileNotFoundError",
          "evalue": "ignored",
          "traceback": [
            "\u001b[0;31m---------------------------------------------------------------------------\u001b[0m",
            "\u001b[0;31mFileNotFoundError\u001b[0m                         Traceback (most recent call last)",
            "\u001b[0;32m<ipython-input-70-1b031ec5c7b0>\u001b[0m in \u001b[0;36m<module>\u001b[0;34m()\u001b[0m\n\u001b[1;32m      2\u001b[0m \u001b[0mcuda\u001b[0m \u001b[0;34m=\u001b[0m \u001b[0mtorch\u001b[0m\u001b[0;34m.\u001b[0m\u001b[0mcuda\u001b[0m\u001b[0;34m.\u001b[0m\u001b[0mis_available\u001b[0m\u001b[0;34m(\u001b[0m\u001b[0;34m)\u001b[0m\u001b[0;34m\u001b[0m\u001b[0;34m\u001b[0m\u001b[0m\n\u001b[1;32m      3\u001b[0m \u001b[0;32mif\u001b[0m \u001b[0mcuda\u001b[0m\u001b[0;34m:\u001b[0m\u001b[0;34m\u001b[0m\u001b[0;34m\u001b[0m\u001b[0m\n\u001b[0;32m----> 4\u001b[0;31m     \u001b[0mcheckpoint\u001b[0m \u001b[0;34m=\u001b[0m \u001b[0mtorch\u001b[0m\u001b[0;34m.\u001b[0m\u001b[0mload\u001b[0m\u001b[0;34m(\u001b[0m\u001b[0mCHK_PATH\u001b[0m \u001b[0;34m+\u001b[0m \u001b[0;34m'FacesCheckpoint.pth.tar'\u001b[0m\u001b[0;34m)\u001b[0m\u001b[0;34m\u001b[0m\u001b[0;34m\u001b[0m\u001b[0m\n\u001b[0m\u001b[1;32m      5\u001b[0m \u001b[0;32melse\u001b[0m\u001b[0;34m:\u001b[0m\u001b[0;34m\u001b[0m\u001b[0;34m\u001b[0m\u001b[0m\n\u001b[1;32m      6\u001b[0m     \u001b[0;31m# Load GPU model on CPU\u001b[0m\u001b[0;34m\u001b[0m\u001b[0;34m\u001b[0m\u001b[0;34m\u001b[0m\u001b[0m\n",
            "\u001b[0;32m/usr/local/lib/python3.6/dist-packages/torch/serialization.py\u001b[0m in \u001b[0;36mload\u001b[0;34m(f, map_location, pickle_module, **pickle_load_args)\u001b[0m\n\u001b[1;32m    417\u001b[0m             \u001b[0;34m(\u001b[0m\u001b[0msys\u001b[0m\u001b[0;34m.\u001b[0m\u001b[0mversion_info\u001b[0m\u001b[0;34m[\u001b[0m\u001b[0;36m0\u001b[0m\u001b[0;34m]\u001b[0m \u001b[0;34m==\u001b[0m \u001b[0;36m2\u001b[0m \u001b[0;32mand\u001b[0m \u001b[0misinstance\u001b[0m\u001b[0;34m(\u001b[0m\u001b[0mf\u001b[0m\u001b[0;34m,\u001b[0m \u001b[0municode\u001b[0m\u001b[0;34m)\u001b[0m\u001b[0;34m)\u001b[0m\u001b[0;34m:\u001b[0m\u001b[0;34m\u001b[0m\u001b[0;34m\u001b[0m\u001b[0m\n\u001b[1;32m    418\u001b[0m         \u001b[0mnew_fd\u001b[0m \u001b[0;34m=\u001b[0m \u001b[0;32mTrue\u001b[0m\u001b[0;34m\u001b[0m\u001b[0;34m\u001b[0m\u001b[0m\n\u001b[0;32m--> 419\u001b[0;31m         \u001b[0mf\u001b[0m \u001b[0;34m=\u001b[0m \u001b[0mopen\u001b[0m\u001b[0;34m(\u001b[0m\u001b[0mf\u001b[0m\u001b[0;34m,\u001b[0m \u001b[0;34m'rb'\u001b[0m\u001b[0;34m)\u001b[0m\u001b[0;34m\u001b[0m\u001b[0;34m\u001b[0m\u001b[0m\n\u001b[0m\u001b[1;32m    420\u001b[0m     \u001b[0;32melif\u001b[0m \u001b[0;34m(\u001b[0m\u001b[0msys\u001b[0m\u001b[0;34m.\u001b[0m\u001b[0mversion_info\u001b[0m\u001b[0;34m[\u001b[0m\u001b[0;36m0\u001b[0m\u001b[0;34m]\u001b[0m \u001b[0;34m==\u001b[0m \u001b[0;36m3\u001b[0m \u001b[0;32mand\u001b[0m \u001b[0misinstance\u001b[0m\u001b[0;34m(\u001b[0m\u001b[0mf\u001b[0m\u001b[0;34m,\u001b[0m \u001b[0mpathlib\u001b[0m\u001b[0;34m.\u001b[0m\u001b[0mPath\u001b[0m\u001b[0;34m)\u001b[0m\u001b[0;34m)\u001b[0m\u001b[0;34m:\u001b[0m\u001b[0;34m\u001b[0m\u001b[0;34m\u001b[0m\u001b[0m\n\u001b[1;32m    421\u001b[0m         \u001b[0mnew_fd\u001b[0m \u001b[0;34m=\u001b[0m \u001b[0;32mTrue\u001b[0m\u001b[0;34m\u001b[0m\u001b[0;34m\u001b[0m\u001b[0m\n",
            "\u001b[0;31mFileNotFoundError\u001b[0m: [Errno 2] No such file or directory: '/content/drive/My Drive/ML/Lenguajes/Pytorch/checkpoints/FacesCheckpoint.pth.tar'"
          ]
        }
      ]
    },
    {
      "cell_type": "markdown",
      "metadata": {
        "id": "B_SA77MRrDNR",
        "colab_type": "text"
      },
      "source": [
        "#Train"
      ]
    },
    {
      "cell_type": "code",
      "metadata": {
        "id": "GU58D6zPyARO",
        "colab_type": "code",
        "colab": {}
      },
      "source": [
        "\n",
        "def save_checkpoint(state, is_best, filename=CHK_PATH + 'FacesCheckpoint.pth.tar'):\n",
        "    \"\"\"Save checkpoint if a new best is achieved\"\"\"\n",
        "    if is_best:\n",
        "        print (\"=> Saving a new best\")\n",
        "        torch.save(state, filename)  # save checkpoint\n",
        "    else:\n",
        "        print (\"=> Loss did not improve\")"
      ],
      "execution_count": 0,
      "outputs": []
    },
    {
      "cell_type": "code",
      "metadata": {
        "id": "kKPdOKLAjvhM",
        "colab_type": "code",
        "outputId": "0b5f9a36-b7d3-4adf-efc1-47fa9231ca68",
        "colab": {
          "base_uri": "https://localhost:8080/",
          "height": 615
        }
      },
      "source": [
        "lossFunc = nn.MSELoss()\n",
        "#lossFunc = nn.BCELoss()\n",
        "#optimizer = optim.SGD(net.parameters(), lr=0.001, momentum=0.9)\n",
        "enc_optimizer = torch.optim.Adam(encoder.parameters(), lr=1e-4)\n",
        "dec_optimizer = torch.optim.Adam(decoder.parameters(), lr=1e-4)\n",
        "\n",
        "\n",
        "def train(encoder, decoder, enc_optimizer, dec_optimazer, trainloader, epochs, device, losses=[], start_epoch=0, best_epochLoss=99999):\n",
        "    #model.train()\n",
        "    n=4\n",
        "    running_loss = 0.0\n",
        "    for epoch in range(start_epoch, epochs + start_epoch):\n",
        "      epochLoss = 0\n",
        "      for i, data in enumerate(trainloader, 0):\n",
        "          # get the inputs\n",
        "          images = data[0].to(device) \n",
        "          #labels = labels.to(device=device, dtype=torch.int64)\n",
        "          enc_optimizer.zero_grad()\n",
        "          dec_optimizer.zero_grad()\n",
        "\n",
        "          enc = encoder(images)\n",
        "          pre = decoder(enc)\n",
        "\n",
        "          loss = lossFunc(images, pre)\n",
        "\n",
        "          loss.backward()\n",
        "\n",
        "          enc_optimizer.step()\n",
        "          dec_optimizer.step()\n",
        "\n",
        "          running_loss += loss.item()\n",
        "          if i % n == n-1: \n",
        "              print('[%d, %5d] loss: %.7f' %\n",
        "                    (epoch + 1, (i + 1)*BATCH_SIZE, running_loss / (BATCH_SIZE*n)))\n",
        "              losses.append(running_loss / (BATCH_SIZE*n))\n",
        "              epochLoss+=running_loss\n",
        "              running_loss = 0.0\n",
        "\n",
        "      if epoch==0 : best_epochLoss = epochLoss \n",
        "      is_best = bool(epochLoss < best_epochLoss)\n",
        "      # best_epochLoss = torch.FloatTensor(max(epochLoss.numpy(), best_epochLoss.numpy()))\n",
        "      if epochLoss < best_epochLoss: best_epochLoss=epochLoss\n",
        "      save_checkpoint({\n",
        "          'epoch': start_epoch + epoch + 1,\n",
        "          'encoder_dict': encoder.state_dict(),\n",
        "          'decoder_dict': decoder.state_dict(),\n",
        "          'best_epochLoss': best_epochLoss,\n",
        "          'losses': losses\n",
        "      }, is_best)\n",
        "      print(\"[\" + str(epochLoss) + \",\" + str(best_epochLoss) + \"]\")\n",
        "\n",
        "    return epochs + start_epoch, best_epochLoss, losses\n",
        "\n",
        "\n",
        "start_epoch, best_epochLoss, losses = train(encoder, decoder, enc_optimizer, dec_optimizer, trainloader, 2, \n",
        "               device,losses=losses, start_epoch=start_epoch, best_epochLoss=best_epochLoss)"
      ],
      "execution_count": 72,
      "outputs": [
        {
          "output_type": "stream",
          "text": [
            "/usr/local/lib/python3.6/dist-packages/torch/nn/functional.py:2494: UserWarning: Default upsampling behavior when mode=bilinear is changed to align_corners=False since 0.4.0. Please specify align_corners=True if the old behavior is desired. See the documentation of nn.Upsample for details.\n",
            "  \"See the documentation of nn.Upsample for details.\".format(mode))\n"
          ],
          "name": "stderr"
        },
        {
          "output_type": "stream",
          "text": [
            "[288,   400] loss: 0.0000622\n",
            "[288,   800] loss: 0.0000619\n",
            "[288,  1200] loss: 0.0000606\n",
            "[288,  1600] loss: 0.0000570\n",
            "[288,  2000] loss: 0.0000570\n",
            "[288,  2400] loss: 0.0000584\n",
            "[288,  2800] loss: 0.0000591\n",
            "[288,  3200] loss: 0.0000603\n",
            "[288,  3600] loss: 0.0000598\n",
            "[288,  4000] loss: 0.0000578\n",
            "[288,  4400] loss: 0.0000577\n",
            "[288,  4800] loss: 0.0000584\n",
            "[288,  5200] loss: 0.0000583\n",
            "[288,  5600] loss: 0.0000595\n",
            "=> Saving a new best\n",
            "[0.3312883717007935,0.3312883717007935]\n",
            "[289,   400] loss: 0.0000747\n",
            "[289,   800] loss: 0.0000565\n",
            "[289,  1200] loss: 0.0000606\n",
            "[289,  1600] loss: 0.0000554\n",
            "[289,  2000] loss: 0.0000565\n",
            "[289,  2400] loss: 0.0000580\n",
            "[289,  2800] loss: 0.0000571\n",
            "[289,  3200] loss: 0.0000584\n",
            "[289,  3600] loss: 0.0000589\n",
            "[289,  4000] loss: 0.0000580\n",
            "[289,  4400] loss: 0.0000574\n",
            "[289,  4800] loss: 0.0000585\n",
            "[289,  5200] loss: 0.0000609\n",
            "[289,  5600] loss: 0.0000580\n",
            "=> Loss did not improve\n",
            "[0.3315690611489117,0.3312883717007935]\n"
          ],
          "name": "stdout"
        }
      ]
    },
    {
      "cell_type": "code",
      "metadata": {
        "id": "JCWdtohUBXhn",
        "colab_type": "code",
        "outputId": "79a00ef2-d8b1-4777-84b5-a0051e753daf",
        "colab": {
          "base_uri": "https://localhost:8080/",
          "height": 282
        }
      },
      "source": [
        "plt.plot(losses[80:])"
      ],
      "execution_count": 65,
      "outputs": [
        {
          "output_type": "execute_result",
          "data": {
            "text/plain": [
              "[<matplotlib.lines.Line2D at 0x7f22a11e3588>]"
            ]
          },
          "metadata": {
            "tags": []
          },
          "execution_count": 65
        },
        {
          "output_type": "display_data",
          "data": {
            "image/png": "[encoded data removed]",
            "text/plain": [
              "<Figure size 432x288 with 1 Axes>"
            ]
          },
          "metadata": {
            "tags": []
          }
        }
      ]
    },
    {
      "cell_type": "code",
      "metadata": {
        "id": "IH76altiJPj4",
        "colab_type": "code",
        "colab": {}
      },
      "source": [
        "l=[]\n",
        "for i in range(34):\n",
        "  l.append(sum(losses[i*19:i*19+19])/19)"
      ],
      "execution_count": 0,
      "outputs": []
    },
    {
      "cell_type": "code",
      "metadata": {
        "id": "-ZPgcjvUKm78",
        "colab_type": "code",
        "outputId": "58a00686-9890-460c-e148-2a888af3081d",
        "colab": {
          "base_uri": "https://localhost:8080/",
          "height": 282
        }
      },
      "source": [
        "plt.plot(l[4:])"
      ],
      "execution_count": 67,
      "outputs": [
        {
          "output_type": "execute_result",
          "data": {
            "text/plain": [
              "[<matplotlib.lines.Line2D at 0x7f22a12069b0>]"
            ]
          },
          "metadata": {
            "tags": []
          },
          "execution_count": 67
        },
        {
          "output_type": "display_data",
          "data": {
            "image/png": "[encoded data removed]",
            "text/plain": [
              "<Figure size 432x288 with 1 Axes>"
            ]
          },
          "metadata": {
            "tags": []
          }
        }
      ]
    },
    {
      "cell_type": "code",
      "metadata": {
        "id": "ftctuKaBq_bx",
        "colab_type": "code",
        "outputId": "f6341aaf-00b6-47d4-db99-13565997d933",
        "colab": {
          "base_uri": "https://localhost:8080/",
          "height": 88
        }
      },
      "source": [
        "pre = decoder(encoder(images.to(device)))\n",
        "pre.shape"
      ],
      "execution_count": 68,
      "outputs": [
        {
          "output_type": "stream",
          "text": [
            "/usr/local/lib/python3.6/dist-packages/torch/nn/functional.py:2494: UserWarning: Default upsampling behavior when mode=bilinear is changed to align_corners=False since 0.4.0. Please specify align_corners=True if the old behavior is desired. See the documentation of nn.Upsample for details.\n",
            "  \"See the documentation of nn.Upsample for details.\".format(mode))\n"
          ],
          "name": "stderr"
        },
        {
          "output_type": "execute_result",
          "data": {
            "text/plain": [
              "torch.Size([100, 3, 64, 64])"
            ]
          },
          "metadata": {
            "tags": []
          },
          "execution_count": 68
        }
      ]
    },
    {
      "cell_type": "code",
      "metadata": {
        "id": "gAi8HXCIBOAO",
        "colab_type": "code",
        "outputId": "1c868315-59f2-486c-de21-ac7ac0194587",
        "colab": {
          "base_uri": "https://localhost:8080/",
          "height": 519
        }
      },
      "source": [
        "imshow(images[1])\n",
        "imshow(pre[1])"
      ],
      "execution_count": 69,
      "outputs": [
        {
          "output_type": "display_data",
          "data": {
            "image/png": "[encoded data removed]",
            "text/plain": [
              "<Figure size 432x288 with 1 Axes>"
            ]
          },
          "metadata": {
            "tags": []
          }
        },
        {
          "output_type": "display_data",
          "data": {
            "image/png": "[encoded data removed]",
            "text/plain": [
              "<Figure size 432x288 with 1 Axes>"
            ]
          },
          "metadata": {
            "tags": []
          }
        }
      ]
    }
  ]
}
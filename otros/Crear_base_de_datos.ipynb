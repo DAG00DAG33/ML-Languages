{
  "nbformat": 4,
  "nbformat_minor": 0,
  "metadata": {
    "kernelspec": {
      "display_name": "Python 3",
      "language": "python",
      "name": "python3"
    },
    "language_info": {
      "codemirror_mode": {
        "name": "ipython",
        "version": 3
      },
      "file_extension": ".py",
      "mimetype": "text/x-python",
      "name": "python",
      "nbconvert_exporter": "python",
      "pygments_lexer": "ipython3",
      "version": "3.5.4"
    },
    "colab": {
      "name": "Base de datos.ipynb",
      "provenance": []
    }
  },
  "cells": [
    {
      "cell_type": "markdown",
      "metadata": {
        "id": "PgSbF-T_CMv8"
      },
      "source": [
        "###Readme\r\n",
        "Code to make a databse with your own webcam. It is prepared to make the fingers database, which consists of 2000 images with shape 64x64 of fingers signaling a number from 0 to 5.\r\n",
        "\r\n",
        "It doesn't work on google colab, but could be modified easily"
      ]
    },
    {
      "cell_type": "code",
      "metadata": {
        "id": "Smn1nZAaB0Ig"
      },
      "source": [
        "%matplotlib inline\n",
        "import matplotlib as mpl\n",
        "import matplotlib.pyplot as plt\n",
        "\n",
        "import numpy as np\n",
        "\n",
        "import cv2\n",
        "import time\n",
        "\n",
        "import h5py\n",
        "import glob"
      ],
      "execution_count": 1,
      "outputs": []
    },
    {
      "cell_type": "code",
      "metadata": {
        "id": "hL32UNVCB0I6"
      },
      "source": [
        "from herr import *"
      ],
      "execution_count": null,
      "outputs": []
    },
    {
      "cell_type": "markdown",
      "metadata": {
        "id": "BfInMmOOB0I9"
      },
      "source": [
        "# Take photos"
      ]
    },
    {
      "cell_type": "code",
      "metadata": {
        "id": "unok2piuB0I-"
      },
      "source": [
        "num=0"
      ],
      "execution_count": null,
      "outputs": []
    },
    {
      "cell_type": "code",
      "metadata": {
        "id": "Tysmjw-7B0I_"
      },
      "source": [
        "from IPython.display import clear_output\n",
        "\n",
        "camera = cv2.VideoCapture(0)\n",
        "\n",
        "\n",
        "repeticiones = 420\n",
        "for i in range(num,num+repeticiones):\n",
        "    \n",
        "\n",
        "    print(i%6, end = \"   \")\n",
        "    print(i, end = \"  \")\n",
        "    \n",
        "    time.sleep(1.3)\n",
        "\n",
        "    camera.read()\n",
        "    return_value, image = camera.read()\n",
        "    \n",
        "    y, x, h, w = 0, 80, 480, 480\n",
        "    crop_img = image[y:y+h, x:x+w]\n",
        "    \n",
        "    clear_output()\n",
        "    plt.imshow(crop_img)#(cv2.cvtColor(crop_img, cv2.COLOR_BGR2RGB))\n",
        "    plt.show()\n",
        "    \n",
        "    cv2.imwrite(\"fotos/z/highRes/\"+str(i%6)+\"/dedo_\"+str(i)+\"_\"+str(i%6)+\".png\",crop_img)\n",
        "    \n",
        "    resize_img = cv2.resize(crop_img  , (64 , 64))\n",
        "    \n",
        "    cv2.imwrite(\"fotos/z/lowRes/\"+str(i%6)+\"/dedo_\"+str(i)+\"_\"+str(i%6)+\".png\",resize_img)\n",
        "    \n",
        "    time.sleep(.2)\n",
        "    \n",
        "del(camera)\n",
        "num=i+1\n"
      ],
      "execution_count": null,
      "outputs": []
    },
    {
      "cell_type": "markdown",
      "metadata": {
        "id": "vG9AR-L8B0JF"
      },
      "source": [
        "# Import photos"
      ]
    },
    {
      "cell_type": "code",
      "metadata": {
        "id": "Ynbp-b36B0JG"
      },
      "source": [
        "import glob\n",
        "\n",
        "\n",
        "X_Dedos = [cv2.imread(file) for file in glob.glob(\"fotos/miniData/lowRes/0/*.png\")]\n",
        "Y_Dedos = np.full(len(X_Dedos), 0, np.int)\n",
        "for i in range(5):\n",
        "    X_dedos = [cv2.imread(file) for file in glob.glob(\"fotos/miniData/lowRes/\"+str(i+1)+\"/*.png\")]\n",
        "    Y_Dedos = np.append(Y_Dedos, np.full(len(X_dedos), i+1, np.int))\n",
        "    X_Dedos = np.append(X_Dedos, np.array(X_dedos), axis=0)"
      ],
      "execution_count": null,
      "outputs": []
    },
    {
      "cell_type": "markdown",
      "metadata": {
        "id": "2JpyOuZ5B0JI"
      },
      "source": [
        "# Save Dataset"
      ]
    },
    {
      "cell_type": "code",
      "metadata": {
        "id": "SkIfhjepB0JJ"
      },
      "source": [
        "def split_tran_test(X, Y, test_ratio):\n",
        "    shuffled_indices = np.random.permutation(X.shape[0])\n",
        "    test_set_size = int(X.shape[0] * test_ratio)\n",
        "    test_indices = shuffled_indices[:test_set_size]\n",
        "    train_indices = shuffled_indices[test_set_size:]\n",
        "    return X[train_indices], X[test_indices], Y[train_indices], Y[test_indices]"
      ],
      "execution_count": null,
      "outputs": []
    },
    {
      "cell_type": "code",
      "metadata": {
        "id": "ZA_HMIwBB0JK"
      },
      "source": [
        "X_train, X_test, Y_train, Y_test = split_tran_test(X_Dedos, Y_Dedos, 0.2)"
      ],
      "execution_count": null,
      "outputs": []
    },
    {
      "cell_type": "code",
      "metadata": {
        "id": "VLeDtRZ3B0JM"
      },
      "source": [
        "X_train_col= np.zeros_like(X_train)\n",
        "X_test_col = np.zeros_like(X_test)\n",
        "for i in range(X_train.shape[0]):\n",
        "    X_train_col[i] = cv2.cvtColor(np.uint8(X_train[i]*255), cv2.COLOR_BGR2RGB)\n",
        "for i in range(X_test.shape[0]):\n",
        "    X_test_col[i] = cv2.cvtColor(np.uint8(X_test[i]*255), cv2.COLOR_BGR2RGB)"
      ],
      "execution_count": null,
      "outputs": []
    },
    {
      "cell_type": "code",
      "metadata": {
        "id": "BSkNEybrB0JN"
      },
      "source": [
        "with h5py.File('fotos/suma2.h5', 'w') as hf:\n",
        "    hf.create_dataset(\"train_set_x\",  data=X_train)\n",
        "    hf.create_dataset(\"train_set_y\",  data=Y_train)\n",
        "    hf.create_dataset(\"test_set_x\",  data=X_test)\n",
        "    hf.create_dataset(\"test_set_y\",  data=Y_test)"
      ],
      "execution_count": null,
      "outputs": []
    },
    {
      "cell_type": "markdown",
      "metadata": {
        "id": "xavca1h4B0JO"
      },
      "source": [
        "# Extra"
      ]
    },
    {
      "cell_type": "code",
      "metadata": {
        "id": "JJpAPGO2B0JP"
      },
      "source": [
        "# 'Stuff/Dedos/datasets/train_signs.h5', 'Stuff/Dedos/datasets/test_signs.h5'\n",
        "# 'fotos/dedosDataset2.h5', 'fotos/dedosDataset2.h5'\n",
        "# 'fotos/suma.h5', 'fotos/suma.h5\n",
        "# 'fotos/miniData.h5', 'fotos/miniData.h5'\n",
        "X_train, Y_train, X_test, Y_test = load_dataset('Stuff/Dedos/datasets/train_signs.h5', 'Stuff/Dedos/datasets/test_signs.h5')"
      ],
      "execution_count": null,
      "outputs": []
    },
    {
      "cell_type": "code",
      "metadata": {
        "id": "BdbUewWDB0JQ"
      },
      "source": [
        "X = np.append(X_train, X_test, axis = 0)\n",
        "Y = np.argmax(np.append(Y_train, Y_test, axis = 0), axis=-1)"
      ],
      "execution_count": null,
      "outputs": []
    },
    {
      "cell_type": "code",
      "metadata": {
        "id": "45qlMD7UB0JR",
        "outputId": "e15eb080-bace-4445-f162-9bf8a09934d1"
      },
      "source": [
        "X.shape"
      ],
      "execution_count": null,
      "outputs": [
        {
          "output_type": "execute_result",
          "data": {
            "text/plain": [
              "(1200, 64, 64, 3)"
            ]
          },
          "metadata": {
            "tags": []
          },
          "execution_count": 108
        }
      ]
    },
    {
      "cell_type": "code",
      "metadata": {
        "id": "KLsn-yxhB0JT"
      },
      "source": [
        "X2 = np.append(X2, X, axis=0)\n",
        "Y2 = np.append(Y2, Y, axis=0)"
      ],
      "execution_count": null,
      "outputs": []
    },
    {
      "cell_type": "code",
      "metadata": {
        "id": "w6YmPOO7B0JU",
        "outputId": "5fc4c0a9-6459-4878-812c-a97bd53f279b"
      },
      "source": [
        "X2.shape"
      ],
      "execution_count": null,
      "outputs": [
        {
          "output_type": "execute_result",
          "data": {
            "text/plain": [
              "(1925, 64, 64, 3)"
            ]
          },
          "metadata": {
            "tags": []
          },
          "execution_count": 110
        }
      ]
    },
    {
      "cell_type": "code",
      "metadata": {
        "id": "4kcxLvgWB0JV",
        "outputId": "26863337-efac-49b8-d7f8-bcb8bf9cfaf4"
      },
      "source": [
        "plt.imshow(X2[1500].astype(int))\n",
        "print(Y2[0])"
      ],
      "execution_count": null,
      "outputs": [
        {
          "output_type": "stream",
          "text": [
            "5\n"
          ],
          "name": "stdout"
        },
        {
          "output_type": "display_data",
          "data": {
            "image/png": "[encoded data removed]",
            "text/plain": [
              "<Figure size 432x288 with 1 Axes>"
            ]
          },
          "metadata": {
            "tags": [],
            "needs_background": "light"
          }
        }
      ]
    },
    {
      "cell_type": "code",
      "metadata": {
        "id": "5opMyOfUB0JW"
      },
      "source": [
        "X2=X2/255"
      ],
      "execution_count": null,
      "outputs": []
    },
    {
      "cell_type": "code",
      "metadata": {
        "id": "CUIHWwYKB0JX"
      },
      "source": [
        "X2=X2.astype(int)"
      ],
      "execution_count": null,
      "outputs": []
    },
    {
      "cell_type": "code",
      "metadata": {
        "id": "5uIT73z-B0JY"
      },
      "source": [
        "# X2[1000]"
      ],
      "execution_count": null,
      "outputs": []
    },
    {
      "cell_type": "code",
      "metadata": {
        "id": "2Hb2KwaTB0JZ"
      },
      "source": [
        ""
      ],
      "execution_count": null,
      "outputs": []
    }
  ]
}